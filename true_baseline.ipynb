{
 "cells": [
  {
   "cell_type": "code",
   "execution_count": null,
   "metadata": {},
   "outputs": [],
   "source": [
    "TODO: сейчас мердж не сделан! Ты итерируешься по всем данным\n",
    "Хотя должен только по тем, где х1 == нан, но по всему графу\n",
    "\n",
    "TODO: код походу неправильно робит, считает по классическому фит предикт, хотя должен был нормально обучиться"
   ]
  },
  {
   "cell_type": "code",
   "execution_count": 35,
   "metadata": {},
   "outputs": [],
   "source": [
    "import numpy as np\n",
    "import pandas as pd"
   ]
  },
  {
   "cell_type": "code",
   "execution_count": 54,
   "metadata": {},
   "outputs": [],
   "source": [
    "train_df = pd.read_csv(\"data/short_train.csv\")\n",
    "test_df = pd.read_csv(\"data/short_test.csv\")"
   ]
  },
  {
   "cell_type": "code",
   "execution_count": 55,
   "metadata": {},
   "outputs": [],
   "source": [
    "# train_df['t'].hist(bins = 500)"
   ]
  },
  {
   "cell_type": "code",
   "execution_count": 56,
   "metadata": {},
   "outputs": [],
   "source": [
    "train_df[\"t\"] = train_df[\"t\"].fillna(-1)\n",
    "test_df[\"t\"] = test_df[\"t\"].fillna(-1) "
   ]
  },
  {
   "cell_type": "code",
   "execution_count": 57,
   "metadata": {},
   "outputs": [],
   "source": [
    "train_df['target'] = train_df['x1']"
   ]
  },
  {
   "cell_type": "code",
   "execution_count": 58,
   "metadata": {},
   "outputs": [
    {
     "data": {
      "text/plain": [
       "Index(['ego_id', 'u', 'v', 't', 'x1', 'x2', 'x3', 'target'], dtype='object')"
      ]
     },
     "execution_count": 58,
     "metadata": {},
     "output_type": "execute_result"
    }
   ],
   "source": [
    "train_df.columns"
   ]
  },
  {
   "attachments": {},
   "cell_type": "markdown",
   "metadata": {},
   "source": [
    "### Сымитируем реальную выборку, где нужно предсказывать в среднем 20% связей для графа. В каждом графе сделаем x1 целевой метрикой, но предиктить будем только этих 20% связей. Сделаем различные фичи для этих связей.\n",
    "\n",
    "### Почему предиктим только 20%, а не все 100%? -Потому что в этом случае многие фичи будут содержать даталик. Соот-но, если мы будем вначале \"выкидывать\"(заменять на nan) x1, а потом только строить дополнительные фичи, то даталика не будет, а также бонусом получается имитация test, где фичи строятся с nan значениями в x1.\n"
   ]
  },
  {
   "cell_type": "code",
   "execution_count": 59,
   "metadata": {},
   "outputs": [],
   "source": [
    "all_nan_indexes = np.array([])\n",
    "for (graph_index, sub_df) in train_df.groupby('ego_id'):\n",
    "    rows_amount = sub_df.shape[0]\n",
    "    first_row_index = sub_df.index[0]\n",
    "    \n",
    "    nan_indexes = np.random.choice(rows_amount,int(0.2*rows_amount))+first_row_index \n",
    "    all_nan_indexes = np.concatenate((all_nan_indexes,nan_indexes))\n",
    "    train_df.loc[nan_indexes,'target'] = np.nan\n"
   ]
  },
  {
   "cell_type": "code",
   "execution_count": 60,
   "metadata": {},
   "outputs": [],
   "source": [
    "train_dataset = train_df.iloc[all_nan_indexes].drop(columns=['target'])\n",
    "test_dataset = test_df\n"
   ]
  },
  {
   "cell_type": "code",
   "execution_count": 61,
   "metadata": {},
   "outputs": [
    {
     "data": {
      "text/html": [
       "<div>\n",
       "<style scoped>\n",
       "    .dataframe tbody tr th:only-of-type {\n",
       "        vertical-align: middle;\n",
       "    }\n",
       "\n",
       "    .dataframe tbody tr th {\n",
       "        vertical-align: top;\n",
       "    }\n",
       "\n",
       "    .dataframe thead th {\n",
       "        text-align: right;\n",
       "    }\n",
       "</style>\n",
       "<table border=\"1\" class=\"dataframe\">\n",
       "  <thead>\n",
       "    <tr style=\"text-align: right;\">\n",
       "      <th></th>\n",
       "      <th>ego_id</th>\n",
       "      <th>u</th>\n",
       "      <th>v</th>\n",
       "      <th>t</th>\n",
       "      <th>x1</th>\n",
       "      <th>x2</th>\n",
       "      <th>x3</th>\n",
       "    </tr>\n",
       "  </thead>\n",
       "  <tbody>\n",
       "    <tr>\n",
       "      <th>249</th>\n",
       "      <td>0</td>\n",
       "      <td>240</td>\n",
       "      <td>235</td>\n",
       "      <td>21.1</td>\n",
       "      <td>1.427472</td>\n",
       "      <td>0.000000</td>\n",
       "      <td>0.0</td>\n",
       "    </tr>\n",
       "    <tr>\n",
       "      <th>71</th>\n",
       "      <td>0</td>\n",
       "      <td>239</td>\n",
       "      <td>151</td>\n",
       "      <td>45.8</td>\n",
       "      <td>0.002231</td>\n",
       "      <td>0.000000</td>\n",
       "      <td>0.0</td>\n",
       "    </tr>\n",
       "    <tr>\n",
       "      <th>715</th>\n",
       "      <td>0</td>\n",
       "      <td>133</td>\n",
       "      <td>100</td>\n",
       "      <td>81.9</td>\n",
       "      <td>1.491979</td>\n",
       "      <td>0.000000</td>\n",
       "      <td>0.0</td>\n",
       "    </tr>\n",
       "    <tr>\n",
       "      <th>1262</th>\n",
       "      <td>0</td>\n",
       "      <td>20</td>\n",
       "      <td>18</td>\n",
       "      <td>372.1</td>\n",
       "      <td>0.000000</td>\n",
       "      <td>0.000000</td>\n",
       "      <td>0.0</td>\n",
       "    </tr>\n",
       "    <tr>\n",
       "      <th>1025</th>\n",
       "      <td>0</td>\n",
       "      <td>224</td>\n",
       "      <td>191</td>\n",
       "      <td>84.1</td>\n",
       "      <td>1.678250</td>\n",
       "      <td>1.098612</td>\n",
       "      <td>0.0</td>\n",
       "    </tr>\n",
       "    <tr>\n",
       "      <th>...</th>\n",
       "      <td>...</td>\n",
       "      <td>...</td>\n",
       "      <td>...</td>\n",
       "      <td>...</td>\n",
       "      <td>...</td>\n",
       "      <td>...</td>\n",
       "      <td>...</td>\n",
       "    </tr>\n",
       "    <tr>\n",
       "      <th>1999419</th>\n",
       "      <td>25769803916</td>\n",
       "      <td>228</td>\n",
       "      <td>20</td>\n",
       "      <td>18.9</td>\n",
       "      <td>0.000000</td>\n",
       "      <td>0.000000</td>\n",
       "      <td>0.0</td>\n",
       "    </tr>\n",
       "    <tr>\n",
       "      <th>1996839</th>\n",
       "      <td>25769803916</td>\n",
       "      <td>98</td>\n",
       "      <td>224</td>\n",
       "      <td>3.7</td>\n",
       "      <td>0.673966</td>\n",
       "      <td>0.000000</td>\n",
       "      <td>0.0</td>\n",
       "    </tr>\n",
       "    <tr>\n",
       "      <th>1997852</th>\n",
       "      <td>25769803916</td>\n",
       "      <td>47</td>\n",
       "      <td>37</td>\n",
       "      <td>30.8</td>\n",
       "      <td>0.009444</td>\n",
       "      <td>0.000000</td>\n",
       "      <td>0.0</td>\n",
       "    </tr>\n",
       "    <tr>\n",
       "      <th>1999601</th>\n",
       "      <td>25769803916</td>\n",
       "      <td>77</td>\n",
       "      <td>287</td>\n",
       "      <td>17.7</td>\n",
       "      <td>0.208448</td>\n",
       "      <td>0.000000</td>\n",
       "      <td>0.0</td>\n",
       "    </tr>\n",
       "    <tr>\n",
       "      <th>1997465</th>\n",
       "      <td>25769803916</td>\n",
       "      <td>68</td>\n",
       "      <td>45</td>\n",
       "      <td>30.0</td>\n",
       "      <td>0.020780</td>\n",
       "      <td>0.000000</td>\n",
       "      <td>0.0</td>\n",
       "    </tr>\n",
       "  </tbody>\n",
       "</table>\n",
       "<p>399617 rows × 7 columns</p>\n",
       "</div>"
      ],
      "text/plain": [
       "              ego_id    u    v      t        x1        x2   x3\n",
       "249                0  240  235   21.1  1.427472  0.000000  0.0\n",
       "71                 0  239  151   45.8  0.002231  0.000000  0.0\n",
       "715                0  133  100   81.9  1.491979  0.000000  0.0\n",
       "1262               0   20   18  372.1  0.000000  0.000000  0.0\n",
       "1025               0  224  191   84.1  1.678250  1.098612  0.0\n",
       "...              ...  ...  ...    ...       ...       ...  ...\n",
       "1999419  25769803916  228   20   18.9  0.000000  0.000000  0.0\n",
       "1996839  25769803916   98  224    3.7  0.673966  0.000000  0.0\n",
       "1997852  25769803916   47   37   30.8  0.009444  0.000000  0.0\n",
       "1999601  25769803916   77  287   17.7  0.208448  0.000000  0.0\n",
       "1997465  25769803916   68   45   30.0  0.020780  0.000000  0.0\n",
       "\n",
       "[399617 rows x 7 columns]"
      ]
     },
     "execution_count": 61,
     "metadata": {},
     "output_type": "execute_result"
    }
   ],
   "source": [
    "train_dataset"
   ]
  },
  {
   "attachments": {},
   "cell_type": "markdown",
   "metadata": {},
   "source": [
    "### Объединим данные из attr.csv с нашим датасетом для того, чтобы можно было сделать больше различных признаков"
   ]
  },
  {
   "cell_type": "code",
   "execution_count": 43,
   "metadata": {},
   "outputs": [],
   "source": [
    "attr = pd.read_csv('data/attr.csv')"
   ]
  },
  {
   "cell_type": "code",
   "execution_count": 44,
   "metadata": {},
   "outputs": [
    {
     "name": "stderr",
     "output_type": "stream",
     "text": [
      "100%|██████████| 962/962 [00:49<00:00, 19.56it/s]\n"
     ]
    }
   ],
   "source": [
    "import tqdm\n",
    "ans = {}\n",
    "attr['v'] = attr['u']\n",
    "\n",
    "#df_ = df.copy()\n",
    "#df['age'] = 0\n",
    "for col in attr.columns[2:]:\n",
    "    train_dataset[col] = 0\n",
    "    train_dataset['u_'+col] = 0\n",
    "    train_dataset['v_'+col] = 0\n",
    "    \n",
    "    #     ans[col] = []\n",
    "#     df['u_'+ col] = 0    \n",
    "#     df['v_'+ col] = 0    \n",
    "\n",
    "u_age = []\n",
    "amount = 0\n",
    "am1 = 0\n",
    "temp = 0\n",
    "for ego_id in tqdm.tqdm(train_dataset['ego_id'].unique()):\n",
    "    temp = train_dataset.loc[train_dataset['ego_id'] ==ego_id,:]\n",
    "    attr_temp = attr.loc[attr['ego_id']==ego_id,:]\n",
    "\n",
    "    for col in attr.columns[2:]:\n",
    "      if col !='v':  \n",
    "        temp1 =  temp.merge(attr_temp.loc[:,['u', col]], on = 'u', how = 'left',copy=False)\n",
    "        train_dataset.loc[train_dataset['ego_id']==ego_id,'u_'+col] = temp1[col+\"_y\"].to_numpy()#'age_y']\n",
    "        \n",
    "        \n",
    "        temp1 =  temp.merge(attr_temp.loc[:,['v', col]], on = 'v', how = 'left',copy=False)\n",
    "        train_dataset.loc[train_dataset['ego_id']==ego_id,'v_'+col] = temp1[col+\"_y\"].to_numpy()#'age_y']\n"
   ]
  },
  {
   "cell_type": "code",
   "execution_count": 45,
   "metadata": {},
   "outputs": [],
   "source": [
    "#drop остаточные колонки\n",
    "train_dataset = train_dataset.drop(columns = ['age',\n",
    "        'city_id',  'sex',  'school',  'university', 'u_v', 'v_v'])"
   ]
  },
  {
   "cell_type": "code",
   "execution_count": 47,
   "metadata": {},
   "outputs": [
    {
     "name": "stderr",
     "output_type": "stream",
     "text": [
      "100%|██████████| 506/506 [00:34<00:00, 14.58it/s]\n"
     ]
    }
   ],
   "source": [
    "#То же самое для test_dataset:\n",
    "import tqdm\n",
    "ans = {}\n",
    "attr['v'] = attr['u']\n",
    "\n",
    "#df_ = df.copy()\n",
    "#df['age'] = 0\n",
    "for col in attr.columns[2:]:\n",
    "    test_dataset[col] = 0\n",
    "    test_dataset['u_'+col] = 0\n",
    "    test_dataset['v_'+col] = 0\n",
    "    \n",
    "    #     ans[col] = []\n",
    "#     df['u_'+ col] = 0    \n",
    "#     df['v_'+ col] = 0    \n",
    "\n",
    "u_age = []\n",
    "amount = 0\n",
    "am1 = 0\n",
    "temp = 0\n",
    "for ego_id in tqdm.tqdm(test_dataset['ego_id'].unique()):\n",
    "    temp = test_dataset.loc[test_dataset['ego_id'] ==ego_id,:]\n",
    "    attr_temp = attr.loc[attr['ego_id']==ego_id,:]\n",
    "\n",
    "    for col in attr.columns[2:]:\n",
    "      if col !='v':  \n",
    "        temp1 =  temp.merge(attr_temp.loc[:,['u', col]], on = 'u', how = 'left',copy=False)\n",
    "        test_dataset.loc[test_dataset['ego_id']==ego_id,'u_'+col] = temp1[col+\"_y\"].to_numpy()#'age_y']\n",
    "        \n",
    "        \n",
    "        temp1 =  temp.merge(attr_temp.loc[:,['v', col]], on = 'v', how = 'left',copy=False)\n",
    "        test_dataset.loc[test_dataset['ego_id']==ego_id,'v_'+col] = temp1[col+\"_y\"].to_numpy()#'age_y']\n",
    "#drop остаточные колонки\n",
    "test_dataset = test_dataset.drop(columns = ['age',\n",
    "        'city_id',  'sex',  'school',  'university', 'u_v', 'v_v'])"
   ]
  },
  {
   "cell_type": "code",
   "execution_count": 48,
   "metadata": {},
   "outputs": [
    {
     "data": {
      "text/html": [
       "<div>\n",
       "<style scoped>\n",
       "    .dataframe tbody tr th:only-of-type {\n",
       "        vertical-align: middle;\n",
       "    }\n",
       "\n",
       "    .dataframe tbody tr th {\n",
       "        vertical-align: top;\n",
       "    }\n",
       "\n",
       "    .dataframe thead th {\n",
       "        text-align: right;\n",
       "    }\n",
       "</style>\n",
       "<table border=\"1\" class=\"dataframe\">\n",
       "  <thead>\n",
       "    <tr style=\"text-align: right;\">\n",
       "      <th></th>\n",
       "      <th>ego_id</th>\n",
       "      <th>u</th>\n",
       "      <th>v</th>\n",
       "      <th>t</th>\n",
       "      <th>x1</th>\n",
       "      <th>x2</th>\n",
       "      <th>x3</th>\n",
       "      <th>u_age</th>\n",
       "      <th>v_age</th>\n",
       "      <th>u_city_id</th>\n",
       "      <th>v_city_id</th>\n",
       "      <th>u_sex</th>\n",
       "      <th>v_sex</th>\n",
       "      <th>u_school</th>\n",
       "      <th>v_school</th>\n",
       "      <th>u_university</th>\n",
       "      <th>v_university</th>\n",
       "    </tr>\n",
       "  </thead>\n",
       "  <tbody>\n",
       "    <tr>\n",
       "      <th>0</th>\n",
       "      <td>8</td>\n",
       "      <td>20</td>\n",
       "      <td>0</td>\n",
       "      <td>185.7</td>\n",
       "      <td>3.839089e-04</td>\n",
       "      <td>0.0</td>\n",
       "      <td>0.0</td>\n",
       "      <td>37.0</td>\n",
       "      <td>36</td>\n",
       "      <td>979281502.0</td>\n",
       "      <td>979281502</td>\n",
       "      <td>2.0</td>\n",
       "      <td>2</td>\n",
       "      <td>783569353.0</td>\n",
       "      <td>213987831</td>\n",
       "      <td>372487423.0</td>\n",
       "      <td>845825535</td>\n",
       "    </tr>\n",
       "    <tr>\n",
       "      <th>1</th>\n",
       "      <td>8</td>\n",
       "      <td>131</td>\n",
       "      <td>0</td>\n",
       "      <td>161.4</td>\n",
       "      <td>4.034464e-01</td>\n",
       "      <td>0.0</td>\n",
       "      <td>0.0</td>\n",
       "      <td>35.0</td>\n",
       "      <td>36</td>\n",
       "      <td>-1.0</td>\n",
       "      <td>979281502</td>\n",
       "      <td>2.0</td>\n",
       "      <td>2</td>\n",
       "      <td>-1.0</td>\n",
       "      <td>213987831</td>\n",
       "      <td>-1.0</td>\n",
       "      <td>845825535</td>\n",
       "    </tr>\n",
       "    <tr>\n",
       "      <th>2</th>\n",
       "      <td>8</td>\n",
       "      <td>73</td>\n",
       "      <td>0</td>\n",
       "      <td>127.0</td>\n",
       "      <td>8.554643e-05</td>\n",
       "      <td>0.0</td>\n",
       "      <td>0.0</td>\n",
       "      <td>58.0</td>\n",
       "      <td>36</td>\n",
       "      <td>-1.0</td>\n",
       "      <td>979281502</td>\n",
       "      <td>2.0</td>\n",
       "      <td>2</td>\n",
       "      <td>-1.0</td>\n",
       "      <td>213987831</td>\n",
       "      <td>-1.0</td>\n",
       "      <td>845825535</td>\n",
       "    </tr>\n",
       "    <tr>\n",
       "      <th>3</th>\n",
       "      <td>8</td>\n",
       "      <td>0</td>\n",
       "      <td>0</td>\n",
       "      <td>594.5</td>\n",
       "      <td>2.886418e-01</td>\n",
       "      <td>0.0</td>\n",
       "      <td>0.0</td>\n",
       "      <td>36.0</td>\n",
       "      <td>36</td>\n",
       "      <td>979281502.0</td>\n",
       "      <td>979281502</td>\n",
       "      <td>2.0</td>\n",
       "      <td>2</td>\n",
       "      <td>213987831.0</td>\n",
       "      <td>213987831</td>\n",
       "      <td>845825535.0</td>\n",
       "      <td>845825535</td>\n",
       "    </tr>\n",
       "    <tr>\n",
       "      <th>4</th>\n",
       "      <td>8</td>\n",
       "      <td>63</td>\n",
       "      <td>0</td>\n",
       "      <td>127.0</td>\n",
       "      <td>4.281692e-07</td>\n",
       "      <td>0.0</td>\n",
       "      <td>0.0</td>\n",
       "      <td>39.0</td>\n",
       "      <td>36</td>\n",
       "      <td>979281502.0</td>\n",
       "      <td>979281502</td>\n",
       "      <td>2.0</td>\n",
       "      <td>2</td>\n",
       "      <td>301269505.0</td>\n",
       "      <td>213987831</td>\n",
       "      <td>845825535.0</td>\n",
       "      <td>845825535</td>\n",
       "    </tr>\n",
       "    <tr>\n",
       "      <th>...</th>\n",
       "      <td>...</td>\n",
       "      <td>...</td>\n",
       "      <td>...</td>\n",
       "      <td>...</td>\n",
       "      <td>...</td>\n",
       "      <td>...</td>\n",
       "      <td>...</td>\n",
       "      <td>...</td>\n",
       "      <td>...</td>\n",
       "      <td>...</td>\n",
       "      <td>...</td>\n",
       "      <td>...</td>\n",
       "      <td>...</td>\n",
       "      <td>...</td>\n",
       "      <td>...</td>\n",
       "      <td>...</td>\n",
       "      <td>...</td>\n",
       "    </tr>\n",
       "    <tr>\n",
       "      <th>999995</th>\n",
       "      <td>42949673174</td>\n",
       "      <td>51</td>\n",
       "      <td>0</td>\n",
       "      <td>-1.0</td>\n",
       "      <td>0.000000e+00</td>\n",
       "      <td>0.0</td>\n",
       "      <td>1.0</td>\n",
       "      <td>51.0</td>\n",
       "      <td>66</td>\n",
       "      <td>613782284.0</td>\n",
       "      <td>555859534</td>\n",
       "      <td>1.0</td>\n",
       "      <td>1</td>\n",
       "      <td>-1.0</td>\n",
       "      <td>674336154</td>\n",
       "      <td>-1.0</td>\n",
       "      <td>-1</td>\n",
       "    </tr>\n",
       "    <tr>\n",
       "      <th>999996</th>\n",
       "      <td>42949673174</td>\n",
       "      <td>61</td>\n",
       "      <td>0</td>\n",
       "      <td>5.3</td>\n",
       "      <td>2.490737e+00</td>\n",
       "      <td>0.0</td>\n",
       "      <td>0.0</td>\n",
       "      <td>66.0</td>\n",
       "      <td>66</td>\n",
       "      <td>930240784.0</td>\n",
       "      <td>555859534</td>\n",
       "      <td>1.0</td>\n",
       "      <td>1</td>\n",
       "      <td>30680726.0</td>\n",
       "      <td>674336154</td>\n",
       "      <td>216656971.0</td>\n",
       "      <td>-1</td>\n",
       "    </tr>\n",
       "    <tr>\n",
       "      <th>999997</th>\n",
       "      <td>42949673174</td>\n",
       "      <td>62</td>\n",
       "      <td>0</td>\n",
       "      <td>-1.0</td>\n",
       "      <td>2.349250e+00</td>\n",
       "      <td>0.0</td>\n",
       "      <td>0.0</td>\n",
       "      <td>66.0</td>\n",
       "      <td>66</td>\n",
       "      <td>255703164.0</td>\n",
       "      <td>555859534</td>\n",
       "      <td>1.0</td>\n",
       "      <td>1</td>\n",
       "      <td>-1.0</td>\n",
       "      <td>674336154</td>\n",
       "      <td>-1.0</td>\n",
       "      <td>-1</td>\n",
       "    </tr>\n",
       "    <tr>\n",
       "      <th>999998</th>\n",
       "      <td>42949673174</td>\n",
       "      <td>31</td>\n",
       "      <td>0</td>\n",
       "      <td>8.2</td>\n",
       "      <td>NaN</td>\n",
       "      <td>0.0</td>\n",
       "      <td>0.0</td>\n",
       "      <td>18.0</td>\n",
       "      <td>66</td>\n",
       "      <td>528441128.0</td>\n",
       "      <td>555859534</td>\n",
       "      <td>1.0</td>\n",
       "      <td>1</td>\n",
       "      <td>91357846.0</td>\n",
       "      <td>674336154</td>\n",
       "      <td>275866820.0</td>\n",
       "      <td>-1</td>\n",
       "    </tr>\n",
       "    <tr>\n",
       "      <th>999999</th>\n",
       "      <td>42949673174</td>\n",
       "      <td>0</td>\n",
       "      <td>0</td>\n",
       "      <td>-1.0</td>\n",
       "      <td>NaN</td>\n",
       "      <td>0.0</td>\n",
       "      <td>1.0</td>\n",
       "      <td>66.0</td>\n",
       "      <td>66</td>\n",
       "      <td>555859534.0</td>\n",
       "      <td>555859534</td>\n",
       "      <td>1.0</td>\n",
       "      <td>1</td>\n",
       "      <td>674336154.0</td>\n",
       "      <td>674336154</td>\n",
       "      <td>-1.0</td>\n",
       "      <td>-1</td>\n",
       "    </tr>\n",
       "  </tbody>\n",
       "</table>\n",
       "<p>1000000 rows × 17 columns</p>\n",
       "</div>"
      ],
      "text/plain": [
       "             ego_id    u  v      t            x1   x2   x3  u_age  v_age  \\\n",
       "0                 8   20  0  185.7  3.839089e-04  0.0  0.0   37.0     36   \n",
       "1                 8  131  0  161.4  4.034464e-01  0.0  0.0   35.0     36   \n",
       "2                 8   73  0  127.0  8.554643e-05  0.0  0.0   58.0     36   \n",
       "3                 8    0  0  594.5  2.886418e-01  0.0  0.0   36.0     36   \n",
       "4                 8   63  0  127.0  4.281692e-07  0.0  0.0   39.0     36   \n",
       "...             ...  ... ..    ...           ...  ...  ...    ...    ...   \n",
       "999995  42949673174   51  0   -1.0  0.000000e+00  0.0  1.0   51.0     66   \n",
       "999996  42949673174   61  0    5.3  2.490737e+00  0.0  0.0   66.0     66   \n",
       "999997  42949673174   62  0   -1.0  2.349250e+00  0.0  0.0   66.0     66   \n",
       "999998  42949673174   31  0    8.2           NaN  0.0  0.0   18.0     66   \n",
       "999999  42949673174    0  0   -1.0           NaN  0.0  1.0   66.0     66   \n",
       "\n",
       "          u_city_id  v_city_id  u_sex  v_sex     u_school   v_school  \\\n",
       "0       979281502.0  979281502    2.0      2  783569353.0  213987831   \n",
       "1              -1.0  979281502    2.0      2         -1.0  213987831   \n",
       "2              -1.0  979281502    2.0      2         -1.0  213987831   \n",
       "3       979281502.0  979281502    2.0      2  213987831.0  213987831   \n",
       "4       979281502.0  979281502    2.0      2  301269505.0  213987831   \n",
       "...             ...        ...    ...    ...          ...        ...   \n",
       "999995  613782284.0  555859534    1.0      1         -1.0  674336154   \n",
       "999996  930240784.0  555859534    1.0      1   30680726.0  674336154   \n",
       "999997  255703164.0  555859534    1.0      1         -1.0  674336154   \n",
       "999998  528441128.0  555859534    1.0      1   91357846.0  674336154   \n",
       "999999  555859534.0  555859534    1.0      1  674336154.0  674336154   \n",
       "\n",
       "        u_university  v_university  \n",
       "0        372487423.0     845825535  \n",
       "1               -1.0     845825535  \n",
       "2               -1.0     845825535  \n",
       "3        845825535.0     845825535  \n",
       "4        845825535.0     845825535  \n",
       "...              ...           ...  \n",
       "999995          -1.0            -1  \n",
       "999996   216656971.0            -1  \n",
       "999997          -1.0            -1  \n",
       "999998   275866820.0            -1  \n",
       "999999          -1.0            -1  \n",
       "\n",
       "[1000000 rows x 17 columns]"
      ]
     },
     "execution_count": 48,
     "metadata": {},
     "output_type": "execute_result"
    }
   ],
   "source": [
    "test_dataset"
   ]
  },
  {
   "attachments": {},
   "cell_type": "markdown",
   "metadata": {},
   "source": [
    "#### Разделим добавляемые фичи на локальные, глобальные и смешанные. Локальные признаки - признаки, полученные по информации с информации о ребре(строчке из датасета). Глобальные - информация о графе в целом. Смешанные - совмещает как информацию о ребре, так и информацию о графе."
   ]
  },
  {
   "cell_type": "code",
   "execution_count": null,
   "metadata": {},
   "outputs": [],
   "source": [
    "#Признак: \"одинаковая школа\". Если люди учатся в одинаковой школе, то тем для общения(взаимодействия)\n",
    "# больше\n",
    "#train_df['same_school'] =  "
   ]
  },
  {
   "cell_type": "code",
   "execution_count": 9,
   "metadata": {},
   "outputs": [
    {
     "data": {
      "text/plain": [
       "362364"
      ]
     },
     "execution_count": 9,
     "metadata": {},
     "output_type": "execute_result"
    }
   ],
   "source": []
  },
  {
   "attachments": {},
   "cell_type": "markdown",
   "metadata": {},
   "source": [
    "### t>15 - is old friends. ЗДЕСЬ ОПИСАНИЕ\n"
   ]
  },
  {
   "cell_type": "code",
   "execution_count": 22,
   "metadata": {},
   "outputs": [],
   "source": [
    "train_dataset['isOldFriends'] = (train_dataset['t']>15).astype(np.int8)\n",
    "test_dataset['isOldFriends'] = (test_dataset['t']>15).astype(np.int8)\n"
   ]
  },
  {
   "attachments": {},
   "cell_type": "markdown",
   "metadata": {},
   "source": [
    "### Нормализуем данные"
   ]
  },
  {
   "cell_type": "code",
   "execution_count": 49,
   "metadata": {},
   "outputs": [],
   "source": [
    "from sklearn.model_selection import train_test_split\n",
    "from sklearn.preprocessing import StandardScaler\n",
    "\n",
    "sc = StandardScaler()\n",
    "\n",
    "y = train_dataset['x1']\n",
    "X = train_dataset.drop(columns=['x1'])\n",
    "\n",
    "X_train, X_val, y_train, y_val = train_test_split(X, y, test_size=0.33, shuffle=False, random_state=42)#shuffle = False, т.к граф представляется последовательно\n",
    "sc.fit(X_train)\n",
    "X_train = sc.transform(X_train)\n",
    "X_val = sc.transform(X_val)\n",
    "\n"
   ]
  },
  {
   "attachments": {},
   "cell_type": "markdown",
   "metadata": {},
   "source": [
    "## После подготовки данных, подберем модель и обучим ее. \n",
    "\n",
    "### Данную задачу удалось свести к задаче классического  ML, поэтому в качестве моделей будут использоваться XGBoost и LightGBM, т.к эти модели хорошо показывают себя в решении задач классического ML, где присутствует большое разнообразие фич."
   ]
  },
  {
   "cell_type": "code",
   "execution_count": 50,
   "metadata": {},
   "outputs": [],
   "source": [
    "from sklearn.metrics import mean_squared_error"
   ]
  },
  {
   "cell_type": "code",
   "execution_count": 51,
   "metadata": {},
   "outputs": [
    {
     "data": {
      "text/plain": [
       "0.8049031904980167"
      ]
     },
     "execution_count": 51,
     "metadata": {},
     "output_type": "execute_result"
    }
   ],
   "source": [
    "from xgboost import XGBRegressor\n",
    "model = XGBRegressor()\n",
    "model.fit(X_train, y_train)\n",
    "mean_squared_error(y_val, model.predict(X_val), squared=False)"
   ]
  },
  {
   "cell_type": "code",
   "execution_count": 52,
   "metadata": {},
   "outputs": [
    {
     "data": {
      "text/plain": [
       "0.7926710255958029"
      ]
     },
     "execution_count": 52,
     "metadata": {},
     "output_type": "execute_result"
    }
   ],
   "source": [
    "from lightgbm import LGBMRegressor\n",
    "model = LGBMRegressor()\n",
    "model.fit(X_train, y_train)\n",
    "mean_squared_error(y_val, model.predict(X_val), squared=False)\n"
   ]
  },
  {
   "attachments": {},
   "cell_type": "markdown",
   "metadata": {},
   "source": [
    "### Submission"
   ]
  },
  {
   "cell_type": "code",
   "execution_count": 13,
   "metadata": {},
   "outputs": [
    {
     "name": "stderr",
     "output_type": "stream",
     "text": [
      "C:\\Users\\boris\\AppData\\Local\\Temp\\ipykernel_19008\\3880865614.py:3: SettingWithCopyWarning: \n",
      "A value is trying to be set on a copy of a slice from a DataFrame.\n",
      "Try using .loc[row_indexer,col_indexer] = value instead\n",
      "\n",
      "See the caveats in the documentation: https://pandas.pydata.org/pandas-docs/stable/user_guide/indexing.html#returning-a-view-versus-a-copy\n",
      "  test_df_nan_x1.loc[:,'x1'] = model.predict(test_df_nan_x1_np)\n"
     ]
    }
   ],
   "source": [
    "test_df_nan_x1 = test_df[test_df['x1'].isna()]\n",
    "test_df_nan_x1_np = sc.transform( test_df_nan_x1.drop(columns = ['x1']))\n",
    "test_df_nan_x1.loc[:,'x1'] = model.predict(test_df_nan_x1_np)"
   ]
  }
 ],
 "metadata": {
  "kernelspec": {
   "display_name": "Python 3",
   "language": "python",
   "name": "python3"
  },
  "language_info": {
   "codemirror_mode": {
    "name": "ipython",
    "version": 3
   },
   "file_extension": ".py",
   "mimetype": "text/x-python",
   "name": "python",
   "nbconvert_exporter": "python",
   "pygments_lexer": "ipython3",
   "version": "3.10.5"
  },
  "orig_nbformat": 4
 },
 "nbformat": 4,
 "nbformat_minor": 2
}
