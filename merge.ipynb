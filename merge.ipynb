{
 "cells": [
  {
   "cell_type": "code",
   "execution_count": 1,
   "metadata": {},
   "outputs": [],
   "source": [
    "import numpy as np\n",
    "import tqdm\n",
    "import pandas as pd"
   ]
  },
  {
   "cell_type": "code",
   "execution_count": 2,
   "metadata": {},
   "outputs": [],
   "source": [
    "train_df = pd.read_csv(\"data/short_train.csv\")\n",
    "test_df = pd.read_csv(\"data/short_test.csv\")"
   ]
  },
  {
   "cell_type": "code",
   "execution_count": 3,
   "metadata": {},
   "outputs": [],
   "source": [
    "train_df[\"t\"] = train_df[\"t\"].fillna(-1)\n",
    "test_df[\"t\"] = test_df[\"t\"].fillna(-1) "
   ]
  },
  {
   "cell_type": "code",
   "execution_count": 4,
   "metadata": {},
   "outputs": [],
   "source": [
    "train_df['target'] = train_df['x1']"
   ]
  },
  {
   "cell_type": "code",
   "execution_count": 5,
   "metadata": {},
   "outputs": [
    {
     "data": {
      "text/plain": [
       "Index(['ego_id', 'u', 'v', 't', 'x1', 'x2', 'x3', 'target'], dtype='object')"
      ]
     },
     "execution_count": 5,
     "metadata": {},
     "output_type": "execute_result"
    }
   ],
   "source": [
    "train_df.columns"
   ]
  },
  {
   "attachments": {},
   "cell_type": "markdown",
   "metadata": {},
   "source": [
    "### Сымитируем реальную выборку, где нужно предсказывать в среднем 20% связей для графа. В каждом графе сделаем x1 целевой метрикой, но предиктить будем только этих 20% связей. Сделаем различные фичи для этих связей.\n",
    "\n",
    "### Почему предиктим только 20%, а не все 100%? -Потому что в этом случае многие фичи будут содержать даталик. Соот-но, если мы будем вначале \"выкидывать\"(заменять на nan) x1, а потом только строить дополнительные фичи, то даталика не будет, а также бонусом получается имитация test, где фичи строятся с nan значениями в x1.\n"
   ]
  },
  {
   "cell_type": "code",
   "execution_count": 6,
   "metadata": {},
   "outputs": [
    {
     "name": "stderr",
     "output_type": "stream",
     "text": [
      "100%|██████████| 962/962 [00:00<00:00, 1260.55it/s]\n"
     ]
    }
   ],
   "source": [
    "all_nan_indexes_list = []#np.array([])\n",
    "for (graph_index, sub_df) in tqdm.tqdm(train_df.groupby('ego_id')):\n",
    "    rows_amount = sub_df.shape[0]\n",
    "    first_row_index = sub_df.index[0]\n",
    "    \n",
    "    nan_indexes = np.random.choice(rows_amount,int(0.2*rows_amount))+first_row_index \n",
    "    all_nan_indexes_list.append(nan_indexes)\n",
    "    train_df.loc[nan_indexes,'target'] = np.nan\n"
   ]
  },
  {
   "cell_type": "code",
   "execution_count": 7,
   "metadata": {},
   "outputs": [
    {
     "name": "stderr",
     "output_type": "stream",
     "text": [
      "100%|██████████| 962/962 [00:00<00:00, 13059.64it/s]\n"
     ]
    }
   ],
   "source": [
    "all_nan_indexes_one_dim = []\n",
    "for i in tqdm.tqdm(all_nan_indexes_list):\n",
    "    for j in i:\n",
    "        all_nan_indexes_one_dim.append(j)\n",
    "#    all_nan_indexes = np.append(all_nan_indexes,np.array(i))"
   ]
  },
  {
   "cell_type": "code",
   "execution_count": 8,
   "metadata": {},
   "outputs": [],
   "source": [
    "all_nan_indexes = np.array(all_nan_indexes_one_dim)"
   ]
  },
  {
   "cell_type": "code",
   "execution_count": 9,
   "metadata": {},
   "outputs": [],
   "source": [
    "train_dataset = train_df.iloc[all_nan_indexes].drop(columns=['target'])\n",
    "test_dataset = test_df\n",
    "\n",
    "train_dataset = train_dataset.reset_index().drop(columns=['index'])\n",
    "\n"
   ]
  },
  {
   "attachments": {},
   "cell_type": "markdown",
   "metadata": {},
   "source": [
    "### Объединим данные из attr.csv с нашим датасетом для того, чтобы можно было сделать больше различных признаков"
   ]
  },
  {
   "cell_type": "code",
   "execution_count": 10,
   "metadata": {},
   "outputs": [],
   "source": [
    "attr = pd.read_csv('data/attr.csv')\n",
    "attr_cols = attr.columns[2:]\n",
    "attr['v'] = attr['u']\n",
    "attr = attr[['ego_id']+['u']+['v']+list(attr_cols)]"
   ]
  },
  {
   "cell_type": "code",
   "execution_count": 11,
   "metadata": {},
   "outputs": [
    {
     "data": {
      "text/plain": [
       "Index(['age', 'city_id', 'sex', 'school', 'university'], dtype='object')"
      ]
     },
     "execution_count": 11,
     "metadata": {},
     "output_type": "execute_result"
    }
   ],
   "source": [
    "attr.columns[3:]"
   ]
  },
  {
   "cell_type": "code",
   "execution_count": 12,
   "metadata": {},
   "outputs": [
    {
     "name": "stderr",
     "output_type": "stream",
     "text": [
      "100%|██████████| 5/5 [00:40<00:00,  8.14s/it]\n"
     ]
    }
   ],
   "source": [
    "for col in tqdm.tqdm(attr.columns[3:]):\n",
    "    train_dataset['u_'+col] = train_dataset.merge(attr.loc[:,['ego_id','u', col]], on = ['ego_id','u'], how = 'left')[col]\n",
    "    train_dataset['v_'+col] = train_dataset.merge(attr.loc[:,['ego_id','v', col]], on = ['ego_id','v'], how = 'left')[col]\n",
    "    "
   ]
  },
  {
   "cell_type": "code",
   "execution_count": 13,
   "metadata": {},
   "outputs": [
    {
     "name": "stderr",
     "output_type": "stream",
     "text": [
      "100%|██████████| 5/5 [00:38<00:00,  7.70s/it]\n"
     ]
    }
   ],
   "source": [
    "for col in tqdm.tqdm(attr.columns[3:]):\n",
    "    test_dataset['u_'+col] = test_dataset.merge(attr.loc[:,['ego_id','u', col]], on = ['ego_id','u'], how = 'left')[col]\n",
    "    test_dataset['v_'+col] = test_dataset.merge(attr.loc[:,['ego_id','v', col]], on = ['ego_id','v'], how = 'left')[col]\n",
    "    "
   ]
  },
  {
   "cell_type": "code",
   "execution_count": 14,
   "metadata": {},
   "outputs": [
    {
     "data": {
      "text/plain": [
       "ego_id               0\n",
       "u                    0\n",
       "v                    0\n",
       "t                    0\n",
       "x1              200006\n",
       "x2                   0\n",
       "x3                   0\n",
       "u_age            67760\n",
       "v_age            67772\n",
       "u_city_id        67760\n",
       "v_city_id        67772\n",
       "u_sex            67760\n",
       "v_sex            67772\n",
       "u_school         67760\n",
       "v_school         67772\n",
       "u_university     67760\n",
       "v_university     67772\n",
       "dtype: int64"
      ]
     },
     "execution_count": 14,
     "metadata": {},
     "output_type": "execute_result"
    }
   ],
   "source": [
    "test_dataset.isna().sum()"
   ]
  },
  {
   "cell_type": "code",
   "execution_count": 15,
   "metadata": {},
   "outputs": [],
   "source": [
    "train_dataset = train_dataset.fillna(-1)"
   ]
  },
  {
   "cell_type": "code",
   "execution_count": 16,
   "metadata": {},
   "outputs": [],
   "source": [
    "test_dataset_fillna_cols = ['u_age','v_age',   'u_city_id',        \n",
    "'v_city_id',        \n",
    "'u_sex'     ,       \n",
    "'v_sex'      ,      \n",
    "'u_school'    ,     \n",
    "'v_school'     ,    \n",
    "'u_university',     \n",
    "'v_university'] \n",
    "test_dataset.loc[:,test_dataset_fillna_cols] = test_dataset.loc[:,test_dataset_fillna_cols].fillna(-1)"
   ]
  },
  {
   "cell_type": "code",
   "execution_count": 17,
   "metadata": {},
   "outputs": [
    {
     "data": {
      "text/plain": [
       "0"
      ]
     },
     "execution_count": 17,
     "metadata": {},
     "output_type": "execute_result"
    }
   ],
   "source": [
    "train_dataset['u_age'].isna().sum()"
   ]
  },
  {
   "attachments": {},
   "cell_type": "markdown",
   "metadata": {},
   "source": [
    "#### Разделим добавляемые фичи на локальные, глобальные и смешанные. Локальные признаки - признаки, полученные по информации с информации о ребре(строчке из датасета). Глобальные - информация о графе в целом. Смешанные - совмещает как информацию о ребре, так и информацию о графе."
   ]
  },
  {
   "attachments": {},
   "cell_type": "markdown",
   "metadata": {},
   "source": [
    "### LOCAL FEATURES"
   ]
  },
  {
   "cell_type": "code",
   "execution_count": 18,
   "metadata": {},
   "outputs": [],
   "source": [
    "train_dataset['isEqCity'] = (train_dataset['u_city_id'] ==train_dataset['v_city_id'] ).astype(np.int8)\n",
    "train_dataset['isEqSex'] = (train_dataset['u_sex'] ==train_dataset['v_sex'] ).astype(np.int8)\n",
    "train_dataset['isEqSchool'] = (train_dataset['u_school'] ==train_dataset['v_school'] ).astype(np.int8)\n",
    "train_dataset['isEqSchool'] = (train_dataset['u_school'] ==train_dataset['v_school'] ).astype(np.int8)\n",
    "train_dataset['isEqUni'] = (train_dataset['u_university'] ==train_dataset['v_university'] ).astype(np.int8)\n",
    "train_dataset['abs_diff_age'] = np.abs(train_dataset['u_age'] -train_dataset['v_age'] ).astype(np.int8)\n",
    "\n",
    "\n",
    "test_dataset['isEqCity'] = (test_dataset['u_city_id'] ==test_dataset['v_city_id'] ).astype(np.int8)\n",
    "test_dataset['isEqSex'] = (test_dataset['u_sex'] ==test_dataset['v_sex'] ).astype(np.int8)\n",
    "test_dataset['isEqSchool'] = (test_dataset['u_school'] ==test_dataset['v_school'] ).astype(np.int8)\n",
    "test_dataset['isEqSchool'] = (test_dataset['u_school'] ==test_dataset['v_school'] ).astype(np.int8)\n",
    "test_dataset['isEqUni'] = (test_dataset['u_university'] ==test_dataset['v_university'] ).astype(np.int8)\n",
    "test_dataset['abs_diff_age'] = np.abs(test_dataset['u_age'] -test_dataset['v_age'] ).astype(np.int8)\n"
   ]
  },
  {
   "cell_type": "code",
   "execution_count": 19,
   "metadata": {},
   "outputs": [
    {
     "data": {
      "text/plain": [
       "Index(['ego_id', 'u', 'v', 't', 'x1', 'x2', 'x3', 'u_age', 'v_age',\n",
       "       'u_city_id', 'v_city_id', 'u_sex', 'v_sex', 'u_school', 'v_school',\n",
       "       'u_university', 'v_university', 'isEqCity', 'isEqSex', 'isEqSchool',\n",
       "       'isEqUni', 'abs_diff_age'],\n",
       "      dtype='object')"
      ]
     },
     "execution_count": 19,
     "metadata": {},
     "output_type": "execute_result"
    }
   ],
   "source": [
    "train_dataset.columns"
   ]
  },
  {
   "cell_type": "code",
   "execution_count": 20,
   "metadata": {},
   "outputs": [
    {
     "data": {
      "text/plain": [
       "((1000000, 22), (399617, 22))"
      ]
     },
     "execution_count": 20,
     "metadata": {},
     "output_type": "execute_result"
    }
   ],
   "source": [
    "test_dataset.shape,train_dataset.shape"
   ]
  },
  {
   "cell_type": "code",
   "execution_count": 21,
   "metadata": {},
   "outputs": [
    {
     "data": {
      "text/html": [
       "<div>\n",
       "<style scoped>\n",
       "    .dataframe tbody tr th:only-of-type {\n",
       "        vertical-align: middle;\n",
       "    }\n",
       "\n",
       "    .dataframe tbody tr th {\n",
       "        vertical-align: top;\n",
       "    }\n",
       "\n",
       "    .dataframe thead th {\n",
       "        text-align: right;\n",
       "    }\n",
       "</style>\n",
       "<table border=\"1\" class=\"dataframe\">\n",
       "  <thead>\n",
       "    <tr style=\"text-align: right;\">\n",
       "      <th></th>\n",
       "      <th>ego_id</th>\n",
       "      <th>u</th>\n",
       "      <th>v</th>\n",
       "      <th>t</th>\n",
       "      <th>x1</th>\n",
       "      <th>x2</th>\n",
       "      <th>x3</th>\n",
       "      <th>u_age</th>\n",
       "      <th>v_age</th>\n",
       "      <th>u_city_id</th>\n",
       "      <th>...</th>\n",
       "      <th>v_sex</th>\n",
       "      <th>u_school</th>\n",
       "      <th>v_school</th>\n",
       "      <th>u_university</th>\n",
       "      <th>v_university</th>\n",
       "      <th>isEqCity</th>\n",
       "      <th>isEqSex</th>\n",
       "      <th>isEqSchool</th>\n",
       "      <th>isEqUni</th>\n",
       "      <th>abs_diff_age</th>\n",
       "    </tr>\n",
       "  </thead>\n",
       "  <tbody>\n",
       "    <tr>\n",
       "      <th>0</th>\n",
       "      <td>0</td>\n",
       "      <td>51</td>\n",
       "      <td>126</td>\n",
       "      <td>435.9</td>\n",
       "      <td>0.197437</td>\n",
       "      <td>0.0</td>\n",
       "      <td>0.0</td>\n",
       "      <td>43.0</td>\n",
       "      <td>44.0</td>\n",
       "      <td>237065842.0</td>\n",
       "      <td>...</td>\n",
       "      <td>1.0</td>\n",
       "      <td>829727092.0</td>\n",
       "      <td>-1.0</td>\n",
       "      <td>991369526.0</td>\n",
       "      <td>-1.0</td>\n",
       "      <td>0</td>\n",
       "      <td>1</td>\n",
       "      <td>0</td>\n",
       "      <td>0</td>\n",
       "      <td>1</td>\n",
       "    </tr>\n",
       "    <tr>\n",
       "      <th>1</th>\n",
       "      <td>0</td>\n",
       "      <td>55</td>\n",
       "      <td>53</td>\n",
       "      <td>492.9</td>\n",
       "      <td>0.147341</td>\n",
       "      <td>0.0</td>\n",
       "      <td>0.0</td>\n",
       "      <td>49.0</td>\n",
       "      <td>49.0</td>\n",
       "      <td>237065842.0</td>\n",
       "      <td>...</td>\n",
       "      <td>1.0</td>\n",
       "      <td>829727092.0</td>\n",
       "      <td>829727092.0</td>\n",
       "      <td>53276069.0</td>\n",
       "      <td>991369526.0</td>\n",
       "      <td>0</td>\n",
       "      <td>1</td>\n",
       "      <td>1</td>\n",
       "      <td>0</td>\n",
       "      <td>0</td>\n",
       "    </tr>\n",
       "    <tr>\n",
       "      <th>2</th>\n",
       "      <td>0</td>\n",
       "      <td>69</td>\n",
       "      <td>84</td>\n",
       "      <td>176.1</td>\n",
       "      <td>0.073430</td>\n",
       "      <td>0.0</td>\n",
       "      <td>0.0</td>\n",
       "      <td>17.0</td>\n",
       "      <td>50.0</td>\n",
       "      <td>237065842.0</td>\n",
       "      <td>...</td>\n",
       "      <td>1.0</td>\n",
       "      <td>-1.0</td>\n",
       "      <td>182400947.0</td>\n",
       "      <td>-1.0</td>\n",
       "      <td>310894832.0</td>\n",
       "      <td>1</td>\n",
       "      <td>1</td>\n",
       "      <td>0</td>\n",
       "      <td>0</td>\n",
       "      <td>33</td>\n",
       "    </tr>\n",
       "    <tr>\n",
       "      <th>3</th>\n",
       "      <td>0</td>\n",
       "      <td>56</td>\n",
       "      <td>5</td>\n",
       "      <td>426.8</td>\n",
       "      <td>0.523937</td>\n",
       "      <td>0.0</td>\n",
       "      <td>0.0</td>\n",
       "      <td>38.0</td>\n",
       "      <td>49.0</td>\n",
       "      <td>237065842.0</td>\n",
       "      <td>...</td>\n",
       "      <td>1.0</td>\n",
       "      <td>-1.0</td>\n",
       "      <td>929914814.0</td>\n",
       "      <td>-1.0</td>\n",
       "      <td>900704564.0</td>\n",
       "      <td>1</td>\n",
       "      <td>1</td>\n",
       "      <td>0</td>\n",
       "      <td>0</td>\n",
       "      <td>11</td>\n",
       "    </tr>\n",
       "    <tr>\n",
       "      <th>4</th>\n",
       "      <td>0</td>\n",
       "      <td>286</td>\n",
       "      <td>285</td>\n",
       "      <td>-1.0</td>\n",
       "      <td>0.000000</td>\n",
       "      <td>0.0</td>\n",
       "      <td>1.0</td>\n",
       "      <td>30.0</td>\n",
       "      <td>30.0</td>\n",
       "      <td>237065842.0</td>\n",
       "      <td>...</td>\n",
       "      <td>2.0</td>\n",
       "      <td>270162662.0</td>\n",
       "      <td>287804418.0</td>\n",
       "      <td>66999397.0</td>\n",
       "      <td>-1.0</td>\n",
       "      <td>1</td>\n",
       "      <td>1</td>\n",
       "      <td>0</td>\n",
       "      <td>0</td>\n",
       "      <td>0</td>\n",
       "    </tr>\n",
       "  </tbody>\n",
       "</table>\n",
       "<p>5 rows × 22 columns</p>\n",
       "</div>"
      ],
      "text/plain": [
       "   ego_id    u    v      t        x1   x2   x3  u_age  v_age    u_city_id  \\\n",
       "0       0   51  126  435.9  0.197437  0.0  0.0   43.0   44.0  237065842.0   \n",
       "1       0   55   53  492.9  0.147341  0.0  0.0   49.0   49.0  237065842.0   \n",
       "2       0   69   84  176.1  0.073430  0.0  0.0   17.0   50.0  237065842.0   \n",
       "3       0   56    5  426.8  0.523937  0.0  0.0   38.0   49.0  237065842.0   \n",
       "4       0  286  285   -1.0  0.000000  0.0  1.0   30.0   30.0  237065842.0   \n",
       "\n",
       "   ...  v_sex     u_school     v_school  u_university  v_university  isEqCity  \\\n",
       "0  ...    1.0  829727092.0         -1.0   991369526.0          -1.0         0   \n",
       "1  ...    1.0  829727092.0  829727092.0    53276069.0   991369526.0         0   \n",
       "2  ...    1.0         -1.0  182400947.0          -1.0   310894832.0         1   \n",
       "3  ...    1.0         -1.0  929914814.0          -1.0   900704564.0         1   \n",
       "4  ...    2.0  270162662.0  287804418.0    66999397.0          -1.0         1   \n",
       "\n",
       "   isEqSex  isEqSchool  isEqUni  abs_diff_age  \n",
       "0        1           0        0             1  \n",
       "1        1           1        0             0  \n",
       "2        1           0        0            33  \n",
       "3        1           0        0            11  \n",
       "4        1           0        0             0  \n",
       "\n",
       "[5 rows x 22 columns]"
      ]
     },
     "execution_count": 21,
     "metadata": {},
     "output_type": "execute_result"
    }
   ],
   "source": [
    "train_dataset.head()"
   ]
  },
  {
   "attachments": {},
   "cell_type": "markdown",
   "metadata": {},
   "source": [
    "### t>15 - is old friends. После t = 15 интенсивность близка к 0. Число 15 было получено методом локтя\n"
   ]
  },
  {
   "cell_type": "code",
   "execution_count": 22,
   "metadata": {},
   "outputs": [],
   "source": [
    "train_dataset['isOldFriends'] = (train_dataset['t']>15).astype(np.int8)\n",
    "test_dataset['isOldFriends'] = (test_dataset['t']>15).astype(np.int8)\n"
   ]
  },
  {
   "attachments": {},
   "cell_type": "markdown",
   "metadata": {},
   "source": [
    "### GLOBAL FEATURES"
   ]
  },
  {
   "cell_type": "code",
   "execution_count": 23,
   "metadata": {},
   "outputs": [],
   "source": [
    "\n",
    "global_features_dict = {\"ego_id\":[],\"nodes_amount\":[],\"connections_amount\":[],\"density\":[],\"mean_x1_global\":[],\"mean_x2_global\":[],\"mean_x3_global\":[],\"std_x1_global\":[],\"std_x2_global\":[],\"std_x3_global\":[]}\n",
    "\n",
    "for (graph_index,subtable) in train_df.groupby('ego_id'):\n",
    "    global_features_dict[\"ego_id\"].append(graph_index)\n",
    "    global_features_dict[\"nodes_amount\"].append(len(subtable['u'].unique()))\n",
    "    global_features_dict[\"connections_amount\"].append(len(subtable))\n",
    "    global_features_dict[\"density\"].append(len(subtable)/len(subtable['u'].unique()))\n",
    "    global_features_dict[\"mean_x1_global\"].append(subtable['x1'].mean())\n",
    "    global_features_dict[\"mean_x2_global\"].append(subtable['x2'].mean())\n",
    "    global_features_dict[\"mean_x3_global\"].append(subtable['x3'].mean())\n",
    "    global_features_dict[\"std_x1_global\"].append(subtable['x1'].std())\n",
    "    global_features_dict[\"std_x2_global\"].append(subtable['x2'].std())\n",
    "    global_features_dict[\"std_x3_global\"].append(subtable['x3'].std())\n",
    "\n",
    "    \n",
    "global_features_train = pd.DataFrame(global_features_dict)\n",
    "    \n",
    "    \n"
   ]
  },
  {
   "cell_type": "code",
   "execution_count": 24,
   "metadata": {},
   "outputs": [],
   "source": [
    "\n",
    "global_features_dict = {\"ego_id\":[],\"nodes_amount\":[],\"connections_amount\":[],\"density\":[],\"mean_x1_global\":[],\"mean_x2_global\":[],\"mean_x3_global\":[],\"std_x1_global\":[],\"std_x2_global\":[],\"std_x3_global\":[]}\n",
    "\n",
    "for (graph_index,subtable) in test_df.groupby('ego_id'):\n",
    "    global_features_dict[\"ego_id\"].append(graph_index)\n",
    "    global_features_dict[\"nodes_amount\"].append(len(subtable['u'].unique()))\n",
    "    global_features_dict[\"connections_amount\"].append(len(subtable))\n",
    "    global_features_dict[\"density\"].append(len(subtable)/len(subtable['u'].unique()))\n",
    "    global_features_dict[\"mean_x1_global\"].append(subtable['x1'].mean())\n",
    "    global_features_dict[\"mean_x2_global\"].append(subtable['x2'].mean())\n",
    "    global_features_dict[\"mean_x3_global\"].append(subtable['x3'].mean())\n",
    "    global_features_dict[\"std_x1_global\"].append(subtable['x1'].std())\n",
    "    global_features_dict[\"std_x2_global\"].append(subtable['x2'].std())\n",
    "    global_features_dict[\"std_x3_global\"].append(subtable['x3'].std())\n",
    "\n",
    "    \n",
    "global_features_test = pd.DataFrame(global_features_dict)\n",
    "    \n",
    "    \n"
   ]
  },
  {
   "cell_type": "code",
   "execution_count": 25,
   "metadata": {},
   "outputs": [
    {
     "data": {
      "text/plain": [
       "['ego_id',\n",
       " 'nodes_amount',\n",
       " 'connections_amount',\n",
       " 'density',\n",
       " 'mean_x1_global',\n",
       " 'mean_x2_global',\n",
       " 'mean_x3_global',\n",
       " 'std_x1_global',\n",
       " 'std_x2_global',\n",
       " 'std_x3_global']"
      ]
     },
     "execution_count": 25,
     "metadata": {},
     "output_type": "execute_result"
    }
   ],
   "source": [
    "global_features_cols = list(global_features_dict.keys())\n",
    "global_features_cols"
   ]
  },
  {
   "cell_type": "code",
   "execution_count": 26,
   "metadata": {},
   "outputs": [
    {
     "data": {
      "text/html": [
       "<div>\n",
       "<style scoped>\n",
       "    .dataframe tbody tr th:only-of-type {\n",
       "        vertical-align: middle;\n",
       "    }\n",
       "\n",
       "    .dataframe tbody tr th {\n",
       "        vertical-align: top;\n",
       "    }\n",
       "\n",
       "    .dataframe thead th {\n",
       "        text-align: right;\n",
       "    }\n",
       "</style>\n",
       "<table border=\"1\" class=\"dataframe\">\n",
       "  <thead>\n",
       "    <tr style=\"text-align: right;\">\n",
       "      <th></th>\n",
       "      <th>ego_id</th>\n",
       "      <th>u</th>\n",
       "      <th>v</th>\n",
       "      <th>t</th>\n",
       "      <th>x1</th>\n",
       "      <th>x2</th>\n",
       "      <th>x3</th>\n",
       "      <th>u_age</th>\n",
       "      <th>v_age</th>\n",
       "      <th>u_city_id</th>\n",
       "      <th>...</th>\n",
       "      <th>isOldFriends</th>\n",
       "      <th>nodes_amount</th>\n",
       "      <th>connections_amount</th>\n",
       "      <th>density</th>\n",
       "      <th>mean_x1_global</th>\n",
       "      <th>mean_x2_global</th>\n",
       "      <th>mean_x3_global</th>\n",
       "      <th>std_x1_global</th>\n",
       "      <th>std_x2_global</th>\n",
       "      <th>std_x3_global</th>\n",
       "    </tr>\n",
       "  </thead>\n",
       "  <tbody>\n",
       "    <tr>\n",
       "      <th>0</th>\n",
       "      <td>8</td>\n",
       "      <td>20</td>\n",
       "      <td>19</td>\n",
       "      <td>185.7</td>\n",
       "      <td>3.839089e-04</td>\n",
       "      <td>0.0</td>\n",
       "      <td>0.0</td>\n",
       "      <td>37.0</td>\n",
       "      <td>37.0</td>\n",
       "      <td>979281502.0</td>\n",
       "      <td>...</td>\n",
       "      <td>1</td>\n",
       "      <td>173</td>\n",
       "      <td>1018</td>\n",
       "      <td>5.884393</td>\n",
       "      <td>0.436473</td>\n",
       "      <td>0.126365</td>\n",
       "      <td>0.084479</td>\n",
       "      <td>0.923410</td>\n",
       "      <td>0.575117</td>\n",
       "      <td>0.278242</td>\n",
       "    </tr>\n",
       "    <tr>\n",
       "      <th>1</th>\n",
       "      <td>8</td>\n",
       "      <td>131</td>\n",
       "      <td>125</td>\n",
       "      <td>161.4</td>\n",
       "      <td>4.034464e-01</td>\n",
       "      <td>0.0</td>\n",
       "      <td>0.0</td>\n",
       "      <td>35.0</td>\n",
       "      <td>38.0</td>\n",
       "      <td>-1.0</td>\n",
       "      <td>...</td>\n",
       "      <td>1</td>\n",
       "      <td>173</td>\n",
       "      <td>1018</td>\n",
       "      <td>5.884393</td>\n",
       "      <td>0.436473</td>\n",
       "      <td>0.126365</td>\n",
       "      <td>0.084479</td>\n",
       "      <td>0.923410</td>\n",
       "      <td>0.575117</td>\n",
       "      <td>0.278242</td>\n",
       "    </tr>\n",
       "    <tr>\n",
       "      <th>2</th>\n",
       "      <td>8</td>\n",
       "      <td>73</td>\n",
       "      <td>56</td>\n",
       "      <td>127.0</td>\n",
       "      <td>8.554643e-05</td>\n",
       "      <td>0.0</td>\n",
       "      <td>0.0</td>\n",
       "      <td>58.0</td>\n",
       "      <td>36.0</td>\n",
       "      <td>-1.0</td>\n",
       "      <td>...</td>\n",
       "      <td>1</td>\n",
       "      <td>173</td>\n",
       "      <td>1018</td>\n",
       "      <td>5.884393</td>\n",
       "      <td>0.436473</td>\n",
       "      <td>0.126365</td>\n",
       "      <td>0.084479</td>\n",
       "      <td>0.923410</td>\n",
       "      <td>0.575117</td>\n",
       "      <td>0.278242</td>\n",
       "    </tr>\n",
       "    <tr>\n",
       "      <th>3</th>\n",
       "      <td>8</td>\n",
       "      <td>0</td>\n",
       "      <td>4</td>\n",
       "      <td>594.5</td>\n",
       "      <td>2.886418e-01</td>\n",
       "      <td>0.0</td>\n",
       "      <td>0.0</td>\n",
       "      <td>36.0</td>\n",
       "      <td>37.0</td>\n",
       "      <td>979281502.0</td>\n",
       "      <td>...</td>\n",
       "      <td>1</td>\n",
       "      <td>173</td>\n",
       "      <td>1018</td>\n",
       "      <td>5.884393</td>\n",
       "      <td>0.436473</td>\n",
       "      <td>0.126365</td>\n",
       "      <td>0.084479</td>\n",
       "      <td>0.923410</td>\n",
       "      <td>0.575117</td>\n",
       "      <td>0.278242</td>\n",
       "    </tr>\n",
       "    <tr>\n",
       "      <th>4</th>\n",
       "      <td>8</td>\n",
       "      <td>63</td>\n",
       "      <td>73</td>\n",
       "      <td>127.0</td>\n",
       "      <td>4.281692e-07</td>\n",
       "      <td>0.0</td>\n",
       "      <td>0.0</td>\n",
       "      <td>39.0</td>\n",
       "      <td>58.0</td>\n",
       "      <td>979281502.0</td>\n",
       "      <td>...</td>\n",
       "      <td>1</td>\n",
       "      <td>173</td>\n",
       "      <td>1018</td>\n",
       "      <td>5.884393</td>\n",
       "      <td>0.436473</td>\n",
       "      <td>0.126365</td>\n",
       "      <td>0.084479</td>\n",
       "      <td>0.923410</td>\n",
       "      <td>0.575117</td>\n",
       "      <td>0.278242</td>\n",
       "    </tr>\n",
       "    <tr>\n",
       "      <th>...</th>\n",
       "      <td>...</td>\n",
       "      <td>...</td>\n",
       "      <td>...</td>\n",
       "      <td>...</td>\n",
       "      <td>...</td>\n",
       "      <td>...</td>\n",
       "      <td>...</td>\n",
       "      <td>...</td>\n",
       "      <td>...</td>\n",
       "      <td>...</td>\n",
       "      <td>...</td>\n",
       "      <td>...</td>\n",
       "      <td>...</td>\n",
       "      <td>...</td>\n",
       "      <td>...</td>\n",
       "      <td>...</td>\n",
       "      <td>...</td>\n",
       "      <td>...</td>\n",
       "      <td>...</td>\n",
       "      <td>...</td>\n",
       "      <td>...</td>\n",
       "    </tr>\n",
       "    <tr>\n",
       "      <th>999995</th>\n",
       "      <td>42949673174</td>\n",
       "      <td>51</td>\n",
       "      <td>87</td>\n",
       "      <td>-1.0</td>\n",
       "      <td>0.000000e+00</td>\n",
       "      <td>0.0</td>\n",
       "      <td>1.0</td>\n",
       "      <td>51.0</td>\n",
       "      <td>68.0</td>\n",
       "      <td>613782284.0</td>\n",
       "      <td>...</td>\n",
       "      <td>0</td>\n",
       "      <td>248</td>\n",
       "      <td>1945</td>\n",
       "      <td>7.842742</td>\n",
       "      <td>1.681008</td>\n",
       "      <td>0.199220</td>\n",
       "      <td>0.102314</td>\n",
       "      <td>2.025046</td>\n",
       "      <td>0.637638</td>\n",
       "      <td>0.303138</td>\n",
       "    </tr>\n",
       "    <tr>\n",
       "      <th>999996</th>\n",
       "      <td>42949673174</td>\n",
       "      <td>61</td>\n",
       "      <td>48</td>\n",
       "      <td>5.3</td>\n",
       "      <td>2.490737e+00</td>\n",
       "      <td>0.0</td>\n",
       "      <td>0.0</td>\n",
       "      <td>66.0</td>\n",
       "      <td>65.0</td>\n",
       "      <td>930240784.0</td>\n",
       "      <td>...</td>\n",
       "      <td>0</td>\n",
       "      <td>248</td>\n",
       "      <td>1945</td>\n",
       "      <td>7.842742</td>\n",
       "      <td>1.681008</td>\n",
       "      <td>0.199220</td>\n",
       "      <td>0.102314</td>\n",
       "      <td>2.025046</td>\n",
       "      <td>0.637638</td>\n",
       "      <td>0.303138</td>\n",
       "    </tr>\n",
       "    <tr>\n",
       "      <th>999997</th>\n",
       "      <td>42949673174</td>\n",
       "      <td>62</td>\n",
       "      <td>53</td>\n",
       "      <td>-1.0</td>\n",
       "      <td>2.349250e+00</td>\n",
       "      <td>0.0</td>\n",
       "      <td>0.0</td>\n",
       "      <td>66.0</td>\n",
       "      <td>55.0</td>\n",
       "      <td>255703164.0</td>\n",
       "      <td>...</td>\n",
       "      <td>0</td>\n",
       "      <td>248</td>\n",
       "      <td>1945</td>\n",
       "      <td>7.842742</td>\n",
       "      <td>1.681008</td>\n",
       "      <td>0.199220</td>\n",
       "      <td>0.102314</td>\n",
       "      <td>2.025046</td>\n",
       "      <td>0.637638</td>\n",
       "      <td>0.303138</td>\n",
       "    </tr>\n",
       "    <tr>\n",
       "      <th>999998</th>\n",
       "      <td>42949673174</td>\n",
       "      <td>31</td>\n",
       "      <td>156</td>\n",
       "      <td>8.2</td>\n",
       "      <td>NaN</td>\n",
       "      <td>0.0</td>\n",
       "      <td>0.0</td>\n",
       "      <td>18.0</td>\n",
       "      <td>53.0</td>\n",
       "      <td>528441128.0</td>\n",
       "      <td>...</td>\n",
       "      <td>0</td>\n",
       "      <td>248</td>\n",
       "      <td>1945</td>\n",
       "      <td>7.842742</td>\n",
       "      <td>1.681008</td>\n",
       "      <td>0.199220</td>\n",
       "      <td>0.102314</td>\n",
       "      <td>2.025046</td>\n",
       "      <td>0.637638</td>\n",
       "      <td>0.303138</td>\n",
       "    </tr>\n",
       "    <tr>\n",
       "      <th>999999</th>\n",
       "      <td>42949673174</td>\n",
       "      <td>0</td>\n",
       "      <td>87</td>\n",
       "      <td>-1.0</td>\n",
       "      <td>NaN</td>\n",
       "      <td>0.0</td>\n",
       "      <td>1.0</td>\n",
       "      <td>66.0</td>\n",
       "      <td>68.0</td>\n",
       "      <td>555859534.0</td>\n",
       "      <td>...</td>\n",
       "      <td>0</td>\n",
       "      <td>248</td>\n",
       "      <td>1945</td>\n",
       "      <td>7.842742</td>\n",
       "      <td>1.681008</td>\n",
       "      <td>0.199220</td>\n",
       "      <td>0.102314</td>\n",
       "      <td>2.025046</td>\n",
       "      <td>0.637638</td>\n",
       "      <td>0.303138</td>\n",
       "    </tr>\n",
       "  </tbody>\n",
       "</table>\n",
       "<p>1000000 rows × 32 columns</p>\n",
       "</div>"
      ],
      "text/plain": [
       "             ego_id    u    v      t            x1   x2   x3  u_age  v_age  \\\n",
       "0                 8   20   19  185.7  3.839089e-04  0.0  0.0   37.0   37.0   \n",
       "1                 8  131  125  161.4  4.034464e-01  0.0  0.0   35.0   38.0   \n",
       "2                 8   73   56  127.0  8.554643e-05  0.0  0.0   58.0   36.0   \n",
       "3                 8    0    4  594.5  2.886418e-01  0.0  0.0   36.0   37.0   \n",
       "4                 8   63   73  127.0  4.281692e-07  0.0  0.0   39.0   58.0   \n",
       "...             ...  ...  ...    ...           ...  ...  ...    ...    ...   \n",
       "999995  42949673174   51   87   -1.0  0.000000e+00  0.0  1.0   51.0   68.0   \n",
       "999996  42949673174   61   48    5.3  2.490737e+00  0.0  0.0   66.0   65.0   \n",
       "999997  42949673174   62   53   -1.0  2.349250e+00  0.0  0.0   66.0   55.0   \n",
       "999998  42949673174   31  156    8.2           NaN  0.0  0.0   18.0   53.0   \n",
       "999999  42949673174    0   87   -1.0           NaN  0.0  1.0   66.0   68.0   \n",
       "\n",
       "          u_city_id  ...  isOldFriends  nodes_amount  connections_amount  \\\n",
       "0       979281502.0  ...             1           173                1018   \n",
       "1              -1.0  ...             1           173                1018   \n",
       "2              -1.0  ...             1           173                1018   \n",
       "3       979281502.0  ...             1           173                1018   \n",
       "4       979281502.0  ...             1           173                1018   \n",
       "...             ...  ...           ...           ...                 ...   \n",
       "999995  613782284.0  ...             0           248                1945   \n",
       "999996  930240784.0  ...             0           248                1945   \n",
       "999997  255703164.0  ...             0           248                1945   \n",
       "999998  528441128.0  ...             0           248                1945   \n",
       "999999  555859534.0  ...             0           248                1945   \n",
       "\n",
       "         density  mean_x1_global  mean_x2_global  mean_x3_global  \\\n",
       "0       5.884393        0.436473        0.126365        0.084479   \n",
       "1       5.884393        0.436473        0.126365        0.084479   \n",
       "2       5.884393        0.436473        0.126365        0.084479   \n",
       "3       5.884393        0.436473        0.126365        0.084479   \n",
       "4       5.884393        0.436473        0.126365        0.084479   \n",
       "...          ...             ...             ...             ...   \n",
       "999995  7.842742        1.681008        0.199220        0.102314   \n",
       "999996  7.842742        1.681008        0.199220        0.102314   \n",
       "999997  7.842742        1.681008        0.199220        0.102314   \n",
       "999998  7.842742        1.681008        0.199220        0.102314   \n",
       "999999  7.842742        1.681008        0.199220        0.102314   \n",
       "\n",
       "        std_x1_global  std_x2_global  std_x3_global  \n",
       "0            0.923410       0.575117       0.278242  \n",
       "1            0.923410       0.575117       0.278242  \n",
       "2            0.923410       0.575117       0.278242  \n",
       "3            0.923410       0.575117       0.278242  \n",
       "4            0.923410       0.575117       0.278242  \n",
       "...               ...            ...            ...  \n",
       "999995       2.025046       0.637638       0.303138  \n",
       "999996       2.025046       0.637638       0.303138  \n",
       "999997       2.025046       0.637638       0.303138  \n",
       "999998       2.025046       0.637638       0.303138  \n",
       "999999       2.025046       0.637638       0.303138  \n",
       "\n",
       "[1000000 rows x 32 columns]"
      ]
     },
     "execution_count": 26,
     "metadata": {},
     "output_type": "execute_result"
    }
   ],
   "source": [
    "train_dataset.merge(global_features_train.loc[:,global_features_cols], on = ['ego_id'], how = 'left')\n",
    "test_dataset.merge(global_features_test.loc[:,global_features_cols], on = ['ego_id'], how = 'left')"
   ]
  },
  {
   "cell_type": "code",
   "execution_count": null,
   "metadata": {},
   "outputs": [],
   "source": []
  },
  {
   "cell_type": "code",
   "execution_count": 27,
   "metadata": {},
   "outputs": [
    {
     "data": {
      "text/plain": [
       "Index(['ego_id', 'u', 'v', 't', 'x1', 'x2', 'x3', 'u_age', 'v_age',\n",
       "       'u_city_id', 'v_city_id', 'u_sex', 'v_sex', 'u_school', 'v_school',\n",
       "       'u_university', 'v_university', 'isEqCity', 'isEqSex', 'isEqSchool',\n",
       "       'isEqUni', 'abs_diff_age', 'isOldFriends'],\n",
       "      dtype='object')"
      ]
     },
     "execution_count": 27,
     "metadata": {},
     "output_type": "execute_result"
    }
   ],
   "source": [
    "train_dataset.columns"
   ]
  },
  {
   "cell_type": "code",
   "execution_count": 28,
   "metadata": {},
   "outputs": [],
   "source": [
    "train_dataset.loc[train_dataset[\"u_city_id\"]!=-1.0,\"u_city_id\"] = 0\n",
    "train_dataset.loc[train_dataset[\"v_city_id\"]!=-1.0,\"v_city_id\"] = 0\n",
    "\n",
    "\n",
    "train_dataset.loc[train_dataset[\"u_school\"]!=-1.0,\"u_school\"] = 0\n",
    "train_dataset.loc[train_dataset[\"v_school\"]!=-1.0,\"v_school\"] = 0\n",
    "\n",
    "train_dataset.loc[train_dataset[\"u_university\"]!=-1.0,\"u_university\"] = 0\n",
    "train_dataset.loc[train_dataset[\"v_university\"]!=-1.0,\"v_university\"] = 0\n",
    "\n",
    "\n",
    "test_dataset.loc[test_dataset[\"u_city_id\"]!=-1.0,\"u_city_id\"] = 0\n",
    "test_dataset.loc[test_dataset[\"v_city_id\"]!=-1.0,\"v_city_id\"] = 0\n",
    "\n",
    "\n",
    "test_dataset.loc[test_dataset[\"u_school\"]!=-1.0,\"u_school\"] = 0\n",
    "test_dataset.loc[test_dataset[\"v_school\"]!=-1.0,\"v_school\"] = 0\n",
    "\n",
    "test_dataset.loc[test_dataset[\"u_university\"]!=-1.0,\"u_university\"] = 0\n",
    "test_dataset.loc[test_dataset[\"v_university\"]!=-1.0,\"v_university\"] = 0\n",
    "\n"
   ]
  },
  {
   "cell_type": "code",
   "execution_count": 29,
   "metadata": {},
   "outputs": [
    {
     "data": {
      "text/plain": [
       "<AxesSubplot:>"
      ]
     },
     "execution_count": 29,
     "metadata": {},
     "output_type": "execute_result"
    },
    {
     "data": {
      "image/png": "[encoded data removed]",
      "text/plain": [
       "<Figure size 432x288 with 2 Axes>"
      ]
     },
     "metadata": {
      "needs_background": "light"
     },
     "output_type": "display_data"
    }
   ],
   "source": [
    "import seaborn as sns\n",
    "sns.heatmap(train_dataset.corr())"
   ]
  },
  {
   "cell_type": "code",
   "execution_count": 30,
   "metadata": {},
   "outputs": [],
   "source": [
    "# IOU, ADAMIC, COMMON FRIENDS, TOTAL FRIENDS\n",
    "def make_graph_with_relationships(graph: pd.DataFrame) -> dict[int, int]:\n",
    "    \n",
    "    graph_with_rels = {}\n",
    "    \n",
    "    for index, row in graph.iterrows():\n",
    "        \n",
    "        if row['t'] != -1:\n",
    "            v_friends = graph_with_rels.get(row['v'], set())\n",
    "            v_friends.add(row['u'])\n",
    "            graph_with_rels[row['v']] = v_friends\n",
    "        \n",
    "        else:\n",
    "            pass\n",
    "        \n",
    "    return graph_with_rels\n",
    "\n",
    "def get_easy_mixed_features(graph: pd.DataFrame) -> dict[str, float]:\n",
    "    \n",
    "    current_graph = make_graph_with_relationships(graph)\n",
    "    \n",
    "    mixed_features = {\n",
    "        \n",
    "        \"friends_num_u\": [],\n",
    "        \"friends_num_v\": [],\n",
    "        \"common_friends\": [],\n",
    "        \"iou\": [],\n",
    "        \"adamic\": [],\n",
    "        \"total_friends\": []\n",
    "    }\n",
    "    \n",
    "    \n",
    "    for index, row in graph.iterrows():\n",
    "        \n",
    "        u_friends, v_friends = current_graph.get(row[\"u\"], set()), current_graph.get(row[\"v\"], set())\n",
    "        common = u_friends.intersection(v_friends)\n",
    "        union = u_friends.union(v_friends)\n",
    "        \n",
    "        mixed_features[\"friends_num_u\"].append(len(u_friends))\n",
    "        mixed_features[\"friends_num_v\"].append(len(v_friends))\n",
    "        mixed_features[\"common_friends\"].append(len(common))\n",
    "\n",
    "        if len(union) != 0:\n",
    "            mixed_features[\"iou\"].append(len(common) / len(union)) \n",
    "        else:\n",
    "            mixed_features[\"iou\"].append(0)\n",
    "            \n",
    "        mixed_features[\"adamic\"].append(len(common) / np.log(len(current_graph.keys())))\n",
    "        mixed_features[\"total_friends\"].append(len(union))\n",
    "    \n",
    "    return mixed_features"
   ]
  },
  {
   "cell_type": "code",
   "execution_count": 31,
   "metadata": {},
   "outputs": [],
   "source": [
    "mixed_info_cols = [ \"friends_num_u\",\n",
    "        \"friends_num_v\",\n",
    "        \"common_friends\",\n",
    "        \"iou\",\n",
    "        \"adamic\",\n",
    "        \"total_friends\"]\n",
    "for i in mixed_info_cols:\n",
    "        train_dataset[i]= 0"
   ]
  },
  {
   "cell_type": "code",
   "execution_count": 32,
   "metadata": {},
   "outputs": [
    {
     "name": "stderr",
     "output_type": "stream",
     "text": [
      "100%|██████████| 962/962 [00:23<00:00, 40.83it/s]\n",
      " 56%|█████▌    | 281/506 [00:28<00:19, 11.56it/s]"
     ]
    }
   ],
   "source": [
    "for (ego_id, sub_df) in tqdm.tqdm(train_dataset.groupby('ego_id')):\n",
    "    a = pd.DataFrame(get_easy_mixed_features(sub_df))\n",
    "    a = a.set_index(sub_df.index)\n",
    "    train_dataset.loc[sub_df.index,mixed_info_cols] = a\n",
    "for (ego_id, sub_df) in tqdm.tqdm(test_dataset.groupby('ego_id')):\n",
    "    a = pd.DataFrame(get_easy_mixed_features(sub_df))\n",
    "    a = a.set_index(sub_df.index)\n",
    "    test_dataset.loc[sub_df.index,mixed_info_cols] = a\n"
   ]
  },
  {
   "cell_type": "code",
   "execution_count": null,
   "metadata": {},
   "outputs": [
    {
     "data": {
      "text/html": [
       "<div>\n",
       "<style scoped>\n",
       "    .dataframe tbody tr th:only-of-type {\n",
       "        vertical-align: middle;\n",
       "    }\n",
       "\n",
       "    .dataframe tbody tr th {\n",
       "        vertical-align: top;\n",
       "    }\n",
       "\n",
       "    .dataframe thead th {\n",
       "        text-align: right;\n",
       "    }\n",
       "</style>\n",
       "<table border=\"1\" class=\"dataframe\">\n",
       "  <thead>\n",
       "    <tr style=\"text-align: right;\">\n",
       "      <th></th>\n",
       "      <th>ego_id</th>\n",
       "      <th>u</th>\n",
       "      <th>v</th>\n",
       "      <th>t</th>\n",
       "      <th>x1</th>\n",
       "      <th>x2</th>\n",
       "      <th>x3</th>\n",
       "      <th>u_age</th>\n",
       "      <th>v_age</th>\n",
       "      <th>u_city_id</th>\n",
       "      <th>...</th>\n",
       "      <th>isEqSchool</th>\n",
       "      <th>isEqUni</th>\n",
       "      <th>abs_diff_age</th>\n",
       "      <th>isOldFriends</th>\n",
       "      <th>friends_num_u</th>\n",
       "      <th>friends_num_v</th>\n",
       "      <th>common_friends</th>\n",
       "      <th>iou</th>\n",
       "      <th>adamic</th>\n",
       "      <th>total_friends</th>\n",
       "    </tr>\n",
       "  </thead>\n",
       "  <tbody>\n",
       "    <tr>\n",
       "      <th>0</th>\n",
       "      <td>0</td>\n",
       "      <td>151</td>\n",
       "      <td>0</td>\n",
       "      <td>45.8</td>\n",
       "      <td>0.004823</td>\n",
       "      <td>0.000000</td>\n",
       "      <td>1.0</td>\n",
       "      <td>36.0</td>\n",
       "      <td>43.0</td>\n",
       "      <td>0.0</td>\n",
       "      <td>...</td>\n",
       "      <td>0</td>\n",
       "      <td>0</td>\n",
       "      <td>7</td>\n",
       "      <td>1</td>\n",
       "      <td>0</td>\n",
       "      <td>30</td>\n",
       "      <td>0</td>\n",
       "      <td>0.0</td>\n",
       "      <td>0.000000</td>\n",
       "      <td>30</td>\n",
       "    </tr>\n",
       "    <tr>\n",
       "      <th>1</th>\n",
       "      <td>0</td>\n",
       "      <td>209</td>\n",
       "      <td>199</td>\n",
       "      <td>40.4</td>\n",
       "      <td>0.414864</td>\n",
       "      <td>0.000000</td>\n",
       "      <td>0.0</td>\n",
       "      <td>22.0</td>\n",
       "      <td>21.0</td>\n",
       "      <td>0.0</td>\n",
       "      <td>...</td>\n",
       "      <td>0</td>\n",
       "      <td>1</td>\n",
       "      <td>1</td>\n",
       "      <td>1</td>\n",
       "      <td>3</td>\n",
       "      <td>2</td>\n",
       "      <td>0</td>\n",
       "      <td>0.0</td>\n",
       "      <td>0.000000</td>\n",
       "      <td>5</td>\n",
       "    </tr>\n",
       "    <tr>\n",
       "      <th>2</th>\n",
       "      <td>0</td>\n",
       "      <td>237</td>\n",
       "      <td>159</td>\n",
       "      <td>27.6</td>\n",
       "      <td>0.153904</td>\n",
       "      <td>0.000000</td>\n",
       "      <td>0.0</td>\n",
       "      <td>28.0</td>\n",
       "      <td>16.0</td>\n",
       "      <td>0.0</td>\n",
       "      <td>...</td>\n",
       "      <td>0</td>\n",
       "      <td>0</td>\n",
       "      <td>12</td>\n",
       "      <td>1</td>\n",
       "      <td>2</td>\n",
       "      <td>1</td>\n",
       "      <td>0</td>\n",
       "      <td>0.0</td>\n",
       "      <td>0.000000</td>\n",
       "      <td>3</td>\n",
       "    </tr>\n",
       "    <tr>\n",
       "      <th>3</th>\n",
       "      <td>0</td>\n",
       "      <td>167</td>\n",
       "      <td>127</td>\n",
       "      <td>86.0</td>\n",
       "      <td>1.328355</td>\n",
       "      <td>1.098612</td>\n",
       "      <td>1.0</td>\n",
       "      <td>22.0</td>\n",
       "      <td>21.0</td>\n",
       "      <td>0.0</td>\n",
       "      <td>...</td>\n",
       "      <td>0</td>\n",
       "      <td>1</td>\n",
       "      <td>1</td>\n",
       "      <td>1</td>\n",
       "      <td>2</td>\n",
       "      <td>9</td>\n",
       "      <td>1</td>\n",
       "      <td>0.1</td>\n",
       "      <td>0.202656</td>\n",
       "      <td>10</td>\n",
       "    </tr>\n",
       "    <tr>\n",
       "      <th>4</th>\n",
       "      <td>0</td>\n",
       "      <td>226</td>\n",
       "      <td>171</td>\n",
       "      <td>92.5</td>\n",
       "      <td>0.372068</td>\n",
       "      <td>0.000000</td>\n",
       "      <td>0.0</td>\n",
       "      <td>22.0</td>\n",
       "      <td>22.0</td>\n",
       "      <td>0.0</td>\n",
       "      <td>...</td>\n",
       "      <td>0</td>\n",
       "      <td>0</td>\n",
       "      <td>0</td>\n",
       "      <td>1</td>\n",
       "      <td>2</td>\n",
       "      <td>3</td>\n",
       "      <td>0</td>\n",
       "      <td>0.0</td>\n",
       "      <td>0.000000</td>\n",
       "      <td>5</td>\n",
       "    </tr>\n",
       "    <tr>\n",
       "      <th>...</th>\n",
       "      <td>...</td>\n",
       "      <td>...</td>\n",
       "      <td>...</td>\n",
       "      <td>...</td>\n",
       "      <td>...</td>\n",
       "      <td>...</td>\n",
       "      <td>...</td>\n",
       "      <td>...</td>\n",
       "      <td>...</td>\n",
       "      <td>...</td>\n",
       "      <td>...</td>\n",
       "      <td>...</td>\n",
       "      <td>...</td>\n",
       "      <td>...</td>\n",
       "      <td>...</td>\n",
       "      <td>...</td>\n",
       "      <td>...</td>\n",
       "      <td>...</td>\n",
       "      <td>...</td>\n",
       "      <td>...</td>\n",
       "      <td>...</td>\n",
       "    </tr>\n",
       "    <tr>\n",
       "      <th>399612</th>\n",
       "      <td>25769803916</td>\n",
       "      <td>19</td>\n",
       "      <td>122</td>\n",
       "      <td>30.3</td>\n",
       "      <td>0.000000</td>\n",
       "      <td>0.000000</td>\n",
       "      <td>0.0</td>\n",
       "      <td>27.0</td>\n",
       "      <td>20.0</td>\n",
       "      <td>-1.0</td>\n",
       "      <td>...</td>\n",
       "      <td>0</td>\n",
       "      <td>1</td>\n",
       "      <td>7</td>\n",
       "      <td>1</td>\n",
       "      <td>1</td>\n",
       "      <td>1</td>\n",
       "      <td>0</td>\n",
       "      <td>0.0</td>\n",
       "      <td>0.000000</td>\n",
       "      <td>2</td>\n",
       "    </tr>\n",
       "    <tr>\n",
       "      <th>399613</th>\n",
       "      <td>25769803916</td>\n",
       "      <td>237</td>\n",
       "      <td>227</td>\n",
       "      <td>28.7</td>\n",
       "      <td>0.137694</td>\n",
       "      <td>0.000000</td>\n",
       "      <td>0.0</td>\n",
       "      <td>24.0</td>\n",
       "      <td>36.0</td>\n",
       "      <td>0.0</td>\n",
       "      <td>...</td>\n",
       "      <td>1</td>\n",
       "      <td>0</td>\n",
       "      <td>12</td>\n",
       "      <td>1</td>\n",
       "      <td>1</td>\n",
       "      <td>4</td>\n",
       "      <td>0</td>\n",
       "      <td>0.0</td>\n",
       "      <td>0.000000</td>\n",
       "      <td>5</td>\n",
       "    </tr>\n",
       "    <tr>\n",
       "      <th>399614</th>\n",
       "      <td>25769803916</td>\n",
       "      <td>118</td>\n",
       "      <td>166</td>\n",
       "      <td>29.0</td>\n",
       "      <td>0.032694</td>\n",
       "      <td>0.000000</td>\n",
       "      <td>0.0</td>\n",
       "      <td>40.0</td>\n",
       "      <td>37.0</td>\n",
       "      <td>0.0</td>\n",
       "      <td>...</td>\n",
       "      <td>0</td>\n",
       "      <td>1</td>\n",
       "      <td>3</td>\n",
       "      <td>1</td>\n",
       "      <td>0</td>\n",
       "      <td>7</td>\n",
       "      <td>0</td>\n",
       "      <td>0.0</td>\n",
       "      <td>0.000000</td>\n",
       "      <td>7</td>\n",
       "    </tr>\n",
       "    <tr>\n",
       "      <th>399615</th>\n",
       "      <td>25769803916</td>\n",
       "      <td>54</td>\n",
       "      <td>296</td>\n",
       "      <td>30.0</td>\n",
       "      <td>0.000510</td>\n",
       "      <td>0.000000</td>\n",
       "      <td>0.0</td>\n",
       "      <td>46.0</td>\n",
       "      <td>50.0</td>\n",
       "      <td>0.0</td>\n",
       "      <td>...</td>\n",
       "      <td>0</td>\n",
       "      <td>0</td>\n",
       "      <td>4</td>\n",
       "      <td>1</td>\n",
       "      <td>1</td>\n",
       "      <td>7</td>\n",
       "      <td>0</td>\n",
       "      <td>0.0</td>\n",
       "      <td>0.000000</td>\n",
       "      <td>8</td>\n",
       "    </tr>\n",
       "    <tr>\n",
       "      <th>399616</th>\n",
       "      <td>25769803916</td>\n",
       "      <td>186</td>\n",
       "      <td>221</td>\n",
       "      <td>110.3</td>\n",
       "      <td>0.011063</td>\n",
       "      <td>0.000000</td>\n",
       "      <td>0.0</td>\n",
       "      <td>39.0</td>\n",
       "      <td>30.0</td>\n",
       "      <td>0.0</td>\n",
       "      <td>...</td>\n",
       "      <td>1</td>\n",
       "      <td>0</td>\n",
       "      <td>9</td>\n",
       "      <td>1</td>\n",
       "      <td>0</td>\n",
       "      <td>2</td>\n",
       "      <td>0</td>\n",
       "      <td>0.0</td>\n",
       "      <td>0.000000</td>\n",
       "      <td>2</td>\n",
       "    </tr>\n",
       "  </tbody>\n",
       "</table>\n",
       "<p>399617 rows × 29 columns</p>\n",
       "</div>"
      ],
      "text/plain": [
       "             ego_id    u    v      t        x1        x2   x3  u_age  v_age  \\\n",
       "0                 0  151    0   45.8  0.004823  0.000000  1.0   36.0   43.0   \n",
       "1                 0  209  199   40.4  0.414864  0.000000  0.0   22.0   21.0   \n",
       "2                 0  237  159   27.6  0.153904  0.000000  0.0   28.0   16.0   \n",
       "3                 0  167  127   86.0  1.328355  1.098612  1.0   22.0   21.0   \n",
       "4                 0  226  171   92.5  0.372068  0.000000  0.0   22.0   22.0   \n",
       "...             ...  ...  ...    ...       ...       ...  ...    ...    ...   \n",
       "399612  25769803916   19  122   30.3  0.000000  0.000000  0.0   27.0   20.0   \n",
       "399613  25769803916  237  227   28.7  0.137694  0.000000  0.0   24.0   36.0   \n",
       "399614  25769803916  118  166   29.0  0.032694  0.000000  0.0   40.0   37.0   \n",
       "399615  25769803916   54  296   30.0  0.000510  0.000000  0.0   46.0   50.0   \n",
       "399616  25769803916  186  221  110.3  0.011063  0.000000  0.0   39.0   30.0   \n",
       "\n",
       "        u_city_id  ...  isEqSchool  isEqUni  abs_diff_age  isOldFriends  \\\n",
       "0             0.0  ...           0        0             7             1   \n",
       "1             0.0  ...           0        1             1             1   \n",
       "2             0.0  ...           0        0            12             1   \n",
       "3             0.0  ...           0        1             1             1   \n",
       "4             0.0  ...           0        0             0             1   \n",
       "...           ...  ...         ...      ...           ...           ...   \n",
       "399612       -1.0  ...           0        1             7             1   \n",
       "399613        0.0  ...           1        0            12             1   \n",
       "399614        0.0  ...           0        1             3             1   \n",
       "399615        0.0  ...           0        0             4             1   \n",
       "399616        0.0  ...           1        0             9             1   \n",
       "\n",
       "        friends_num_u  friends_num_v  common_friends  iou    adamic  \\\n",
       "0                   0             30               0  0.0  0.000000   \n",
       "1                   3              2               0  0.0  0.000000   \n",
       "2                   2              1               0  0.0  0.000000   \n",
       "3                   2              9               1  0.1  0.202656   \n",
       "4                   2              3               0  0.0  0.000000   \n",
       "...               ...            ...             ...  ...       ...   \n",
       "399612              1              1               0  0.0  0.000000   \n",
       "399613              1              4               0  0.0  0.000000   \n",
       "399614              0              7               0  0.0  0.000000   \n",
       "399615              1              7               0  0.0  0.000000   \n",
       "399616              0              2               0  0.0  0.000000   \n",
       "\n",
       "        total_friends  \n",
       "0                  30  \n",
       "1                   5  \n",
       "2                   3  \n",
       "3                  10  \n",
       "4                   5  \n",
       "...               ...  \n",
       "399612              2  \n",
       "399613              5  \n",
       "399614              7  \n",
       "399615              8  \n",
       "399616              2  \n",
       "\n",
       "[399617 rows x 29 columns]"
      ]
     },
     "execution_count": 71,
     "metadata": {},
     "output_type": "execute_result"
    }
   ],
   "source": [
    "train_dataset"
   ]
  },
  {
   "cell_type": "code",
   "execution_count": null,
   "metadata": {},
   "outputs": [
    {
     "data": {
      "text/plain": [
       "<AxesSubplot:>"
      ]
     },
     "execution_count": 72,
     "metadata": {},
     "output_type": "execute_result"
    },
    {
     "data": {
      "image/png": "[encoded data removed]",
      "text/plain": [
       "<Figure size 432x288 with 2 Axes>"
      ]
     },
     "metadata": {
      "needs_background": "light"
     },
     "output_type": "display_data"
    }
   ],
   "source": [
    "sns.heatmap(train_dataset.corr())"
   ]
  },
  {
   "attachments": {},
   "cell_type": "markdown",
   "metadata": {},
   "source": [
    "### Нормализуем данные"
   ]
  },
  {
   "cell_type": "code",
   "execution_count": null,
   "metadata": {},
   "outputs": [],
   "source": [
    "from sklearn.model_selection import train_test_split\n",
    "from sklearn.preprocessing import StandardScaler\n",
    "\n",
    "sc = StandardScaler()\n",
    "\n",
    "drop_cols = ['ego_id','u','v']\n",
    "\n",
    "y = train_dataset['x1']\n",
    "X = train_dataset.drop(columns=['x1']).drop(columns=drop_cols)\n",
    "\n",
    "\n",
    "\n",
    "\n",
    "X_train, X_val, y_train, y_val = train_test_split(X, y, test_size=0.33, shuffle=False, random_state=42)#shuffle = False, т.к граф представляется последовательно\n",
    "sc.fit(X_train)\n",
    "X_train = sc.transform(X_train)\n",
    "\n",
    "X_val = sc.transform(X_val)\n",
    "\n"
   ]
  },
  {
   "attachments": {},
   "cell_type": "markdown",
   "metadata": {},
   "source": [
    "## После подготовки данных, подберем модель и обучим ее. \n",
    "\n",
    "### Данную задачу удалось свести к задаче классического  ML, поэтому в качестве моделей будут использоваться XGBoost и LightGBM, т.к эти модели хорошо показывают себя в решении задач классического ML, где присутствует большое разнообразие фич."
   ]
  },
  {
   "cell_type": "code",
   "execution_count": null,
   "metadata": {},
   "outputs": [],
   "source": [
    "from sklearn.metrics import mean_squared_error"
   ]
  },
  {
   "cell_type": "code",
   "execution_count": null,
   "metadata": {},
   "outputs": [
    {
     "data": {
      "text/plain": [
       "0.7718718030272091"
      ]
     },
     "execution_count": 38,
     "metadata": {},
     "output_type": "execute_result"
    }
   ],
   "source": [
    "from lightgbm import LGBMRegressor\n",
    "model = LGBMRegressor(random_state = 42)\n",
    "model.fit(X_train, y_train)\n",
    "mean_squared_error(y_val, model.predict(X_val), squared=False)\n"
   ]
  },
  {
   "cell_type": "code",
   "execution_count": null,
   "metadata": {},
   "outputs": [
    {
     "name": "stderr",
     "output_type": "stream",
     "text": [
      "c:\\Users\\boris\\AppData\\Local\\Programs\\Python\\Python310\\lib\\site-packages\\lightgbm\\basic.py:506: UserWarning: Usage of np.ndarray subset (sliced data) is not recommended due to it will double the peak memory cost in LightGBM.\n",
      "  _log_warning(\"Usage of np.ndarray subset (sliced data) is not recommended \"\n"
     ]
    },
    {
     "data": {
      "image/png": "[encoded data removed]",
      "text/plain": [
       "<Figure size 432x288 with 1 Axes>"
      ]
     },
     "metadata": {
      "needs_background": "light"
     },
     "output_type": "display_data"
    },
    {
     "name": "stderr",
     "output_type": "stream",
     "text": [
      "No artists with labels found to put in legend.  Note that artists whose label start with an underscore are ignored when legend() is called with no argument.\n"
     ]
    },
    {
     "data": {
      "text/plain": [
       "<matplotlib.legend.Legend at 0x21e0d30f490>"
      ]
     },
     "execution_count": 96,
     "metadata": {},
     "output_type": "execute_result"
    },
    {
     "data": {
      "image/png": "[encoded data removed]",
      "text/plain": [
       "<Figure size 432x288 with 1 Axes>"
      ]
     },
     "metadata": {
      "needs_background": "light"
     },
     "output_type": "display_data"
    }
   ],
   "source": [
    "import time\n",
    "import matplotlib.pyplot as plt\n",
    "time_list = []\n",
    "r = range(1,X_val.shape[0],2300)\n",
    "for i in r:\n",
    "    start = time.time()\n",
    "    model.predict(X_val[:i])\n",
    "    time_list.append(time.time()-start)\n",
    "plt.plot(r, time_list)\n",
    "plt.ylabel('Время, с')\n",
    "plt.xlabel('Кол-во данных')\n",
    "#plt.grid()\n",
    "plt.title(\"Зависимость времени работы алгоритма от  кол-ва данных\")\n",
    "plt.legend()\n",
    "\n",
    "plt.show()\n"
   ]
  },
  {
   "attachments": {},
   "cell_type": "markdown",
   "metadata": {},
   "source": [
    "### Submission"
   ]
  },
  {
   "cell_type": "code",
   "execution_count": 324,
   "metadata": {},
   "outputs": [],
   "source": [
    "ego_id_u_v_columns = test_dataset[test_dataset['x1'].isna()]\n",
    "\n",
    "test_df_nan_x1 = test_dataset.drop(columns=drop_cols)[test_dataset['x1'].isna()]\n",
    "test_df_nan_x1_np = sc.transform( test_df_nan_x1.drop(columns = ['x1']))\n",
    "test_df_nan_x1.loc[:,'x1'] = model.predict(test_df_nan_x1_np)"
   ]
  },
  {
   "cell_type": "code",
   "execution_count": 334,
   "metadata": {},
   "outputs": [
    {
     "name": "stderr",
     "output_type": "stream",
     "text": [
      "C:\\Users\\boris\\AppData\\Local\\Temp\\ipykernel_2980\\887882834.py:1: SettingWithCopyWarning: \n",
      "A value is trying to be set on a copy of a slice from a DataFrame.\n",
      "Try using .loc[row_indexer,col_indexer] = value instead\n",
      "\n",
      "See the caveats in the documentation: https://pandas.pydata.org/pandas-docs/stable/user_guide/indexing.html#returning-a-view-versus-a-copy\n",
      "  ego_id_u_v_columns.loc[:,'x1']=test_df_nan_x1.loc[:,'x1']\n"
     ]
    }
   ],
   "source": [
    "ego_id_u_v_columns.loc[:,'x1']=test_df_nan_x1.loc[:,'x1']\n",
    "subm = ego_id_u_v_columns.loc[:,['ego_id','u','v','x1']]\n",
    "\n",
    "subm.loc[subm['x1']<0,'x1'] = 0\n"
   ]
  },
  {
   "cell_type": "code",
   "execution_count": 336,
   "metadata": {},
   "outputs": [],
   "source": []
  },
  {
   "cell_type": "code",
   "execution_count": null,
   "metadata": {},
   "outputs": [],
   "source": []
  },
  {
   "cell_type": "code",
   "execution_count": 331,
   "metadata": {},
   "outputs": [
    {
     "name": "stdout",
     "output_type": "stream",
     "text": [
      "<class 'pandas.core.frame.DataFrame'>\n",
      "Int64Index: 200006 entries, 9 to 999999\n",
      "Data columns (total 4 columns):\n",
      " #   Column  Non-Null Count   Dtype  \n",
      "---  ------  --------------   -----  \n",
      " 0   ego_id  200006 non-null  int64  \n",
      " 1   u       200006 non-null  int64  \n",
      " 2   v       200006 non-null  int64  \n",
      " 3   x1      200006 non-null  float32\n",
      "dtypes: float32(1), int64(3)\n",
      "memory usage: 6.9 MB\n"
     ]
    }
   ],
   "source": [
    "subm.info()"
   ]
  },
  {
   "cell_type": "code",
   "execution_count": 337,
   "metadata": {},
   "outputs": [
    {
     "data": {
      "text/html": [
       "<div>\n",
       "<style scoped>\n",
       "    .dataframe tbody tr th:only-of-type {\n",
       "        vertical-align: middle;\n",
       "    }\n",
       "\n",
       "    .dataframe tbody tr th {\n",
       "        vertical-align: top;\n",
       "    }\n",
       "\n",
       "    .dataframe thead th {\n",
       "        text-align: right;\n",
       "    }\n",
       "</style>\n",
       "<table border=\"1\" class=\"dataframe\">\n",
       "  <thead>\n",
       "    <tr style=\"text-align: right;\">\n",
       "      <th></th>\n",
       "      <th>ego_id</th>\n",
       "      <th>u</th>\n",
       "      <th>v</th>\n",
       "      <th>x1</th>\n",
       "    </tr>\n",
       "  </thead>\n",
       "  <tbody>\n",
       "    <tr>\n",
       "      <th>9</th>\n",
       "      <td>8</td>\n",
       "      <td>109</td>\n",
       "      <td>154</td>\n",
       "      <td>0.000000</td>\n",
       "    </tr>\n",
       "    <tr>\n",
       "      <th>10</th>\n",
       "      <td>8</td>\n",
       "      <td>51</td>\n",
       "      <td>30</td>\n",
       "      <td>0.042314</td>\n",
       "    </tr>\n",
       "    <tr>\n",
       "      <th>20</th>\n",
       "      <td>8</td>\n",
       "      <td>54</td>\n",
       "      <td>56</td>\n",
       "      <td>0.025092</td>\n",
       "    </tr>\n",
       "    <tr>\n",
       "      <th>26</th>\n",
       "      <td>8</td>\n",
       "      <td>106</td>\n",
       "      <td>9</td>\n",
       "      <td>0.000000</td>\n",
       "    </tr>\n",
       "    <tr>\n",
       "      <th>28</th>\n",
       "      <td>8</td>\n",
       "      <td>135</td>\n",
       "      <td>119</td>\n",
       "      <td>0.000000</td>\n",
       "    </tr>\n",
       "    <tr>\n",
       "      <th>...</th>\n",
       "      <td>...</td>\n",
       "      <td>...</td>\n",
       "      <td>...</td>\n",
       "      <td>...</td>\n",
       "    </tr>\n",
       "    <tr>\n",
       "      <th>999984</th>\n",
       "      <td>42949673174</td>\n",
       "      <td>43</td>\n",
       "      <td>98</td>\n",
       "      <td>0.240425</td>\n",
       "    </tr>\n",
       "    <tr>\n",
       "      <th>999989</th>\n",
       "      <td>42949673174</td>\n",
       "      <td>102</td>\n",
       "      <td>94</td>\n",
       "      <td>1.020106</td>\n",
       "    </tr>\n",
       "    <tr>\n",
       "      <th>999990</th>\n",
       "      <td>42949673174</td>\n",
       "      <td>149</td>\n",
       "      <td>0</td>\n",
       "      <td>0.422202</td>\n",
       "    </tr>\n",
       "    <tr>\n",
       "      <th>999998</th>\n",
       "      <td>42949673174</td>\n",
       "      <td>31</td>\n",
       "      <td>156</td>\n",
       "      <td>1.253917</td>\n",
       "    </tr>\n",
       "    <tr>\n",
       "      <th>999999</th>\n",
       "      <td>42949673174</td>\n",
       "      <td>0</td>\n",
       "      <td>87</td>\n",
       "      <td>0.284203</td>\n",
       "    </tr>\n",
       "  </tbody>\n",
       "</table>\n",
       "<p>200006 rows × 4 columns</p>\n",
       "</div>"
      ],
      "text/plain": [
       "             ego_id    u    v        x1\n",
       "9                 8  109  154  0.000000\n",
       "10                8   51   30  0.042314\n",
       "20                8   54   56  0.025092\n",
       "26                8  106    9  0.000000\n",
       "28                8  135  119  0.000000\n",
       "...             ...  ...  ...       ...\n",
       "999984  42949673174   43   98  0.240425\n",
       "999989  42949673174  102   94  1.020106\n",
       "999990  42949673174  149    0  0.422202\n",
       "999998  42949673174   31  156  1.253917\n",
       "999999  42949673174    0   87  0.284203\n",
       "\n",
       "[200006 rows x 4 columns]"
      ]
     },
     "execution_count": 337,
     "metadata": {},
     "output_type": "execute_result"
    }
   ],
   "source": [
    "\n",
    "subm"
   ]
  },
  {
   "cell_type": "code",
   "execution_count": 340,
   "metadata": {},
   "outputs": [],
   "source": [
    "th = pd.read_csv('data/submission.csv')\n",
    "\n"
   ]
  },
  {
   "cell_type": "code",
   "execution_count": 341,
   "metadata": {},
   "outputs": [
    {
     "data": {
      "text/html": [
       "<div>\n",
       "<style scoped>\n",
       "    .dataframe tbody tr th:only-of-type {\n",
       "        vertical-align: middle;\n",
       "    }\n",
       "\n",
       "    .dataframe tbody tr th {\n",
       "        vertical-align: top;\n",
       "    }\n",
       "\n",
       "    .dataframe thead th {\n",
       "        text-align: right;\n",
       "    }\n",
       "</style>\n",
       "<table border=\"1\" class=\"dataframe\">\n",
       "  <thead>\n",
       "    <tr style=\"text-align: right;\">\n",
       "      <th></th>\n",
       "      <th>ego_id</th>\n",
       "      <th>u</th>\n",
       "      <th>v</th>\n",
       "      <th>x1</th>\n",
       "    </tr>\n",
       "  </thead>\n",
       "  <tbody>\n",
       "    <tr>\n",
       "      <th>0</th>\n",
       "      <td>8</td>\n",
       "      <td>0</td>\n",
       "      <td>93</td>\n",
       "      <td>0.000000</td>\n",
       "    </tr>\n",
       "    <tr>\n",
       "      <th>1</th>\n",
       "      <td>8</td>\n",
       "      <td>0</td>\n",
       "      <td>143</td>\n",
       "      <td>0.000000</td>\n",
       "    </tr>\n",
       "    <tr>\n",
       "      <th>2</th>\n",
       "      <td>8</td>\n",
       "      <td>0</td>\n",
       "      <td>151</td>\n",
       "      <td>1.606742</td>\n",
       "    </tr>\n",
       "    <tr>\n",
       "      <th>3</th>\n",
       "      <td>8</td>\n",
       "      <td>1</td>\n",
       "      <td>24</td>\n",
       "      <td>0.026496</td>\n",
       "    </tr>\n",
       "    <tr>\n",
       "      <th>4</th>\n",
       "      <td>8</td>\n",
       "      <td>5</td>\n",
       "      <td>4</td>\n",
       "      <td>0.159857</td>\n",
       "    </tr>\n",
       "    <tr>\n",
       "      <th>...</th>\n",
       "      <td>...</td>\n",
       "      <td>...</td>\n",
       "      <td>...</td>\n",
       "      <td>...</td>\n",
       "    </tr>\n",
       "    <tr>\n",
       "      <th>810971</th>\n",
       "      <td>1709396984676</td>\n",
       "      <td>73</td>\n",
       "      <td>23</td>\n",
       "      <td>1.562170</td>\n",
       "    </tr>\n",
       "    <tr>\n",
       "      <th>810972</th>\n",
       "      <td>1709396984676</td>\n",
       "      <td>74</td>\n",
       "      <td>68</td>\n",
       "      <td>0.454210</td>\n",
       "    </tr>\n",
       "    <tr>\n",
       "      <th>810973</th>\n",
       "      <td>1709396984676</td>\n",
       "      <td>77</td>\n",
       "      <td>28</td>\n",
       "      <td>0.078504</td>\n",
       "    </tr>\n",
       "    <tr>\n",
       "      <th>810974</th>\n",
       "      <td>1709396984676</td>\n",
       "      <td>79</td>\n",
       "      <td>38</td>\n",
       "      <td>0.981812</td>\n",
       "    </tr>\n",
       "    <tr>\n",
       "      <th>810975</th>\n",
       "      <td>1709396984676</td>\n",
       "      <td>81</td>\n",
       "      <td>92</td>\n",
       "      <td>3.417851</td>\n",
       "    </tr>\n",
       "  </tbody>\n",
       "</table>\n",
       "<p>810976 rows × 4 columns</p>\n",
       "</div>"
      ],
      "text/plain": [
       "               ego_id   u    v        x1\n",
       "0                   8   0   93  0.000000\n",
       "1                   8   0  143  0.000000\n",
       "2                   8   0  151  1.606742\n",
       "3                   8   1   24  0.026496\n",
       "4                   8   5    4  0.159857\n",
       "...               ...  ..  ...       ...\n",
       "810971  1709396984676  73   23  1.562170\n",
       "810972  1709396984676  74   68  0.454210\n",
       "810973  1709396984676  77   28  0.078504\n",
       "810974  1709396984676  79   38  0.981812\n",
       "810975  1709396984676  81   92  3.417851\n",
       "\n",
       "[810976 rows x 4 columns]"
      ]
     },
     "execution_count": 341,
     "metadata": {},
     "output_type": "execute_result"
    }
   ],
   "source": [
    "th"
   ]
  },
  {
   "cell_type": "code",
   "execution_count": 342,
   "metadata": {},
   "outputs": [
    {
     "name": "stderr",
     "output_type": "stream",
     "text": [
      "200006it [00:05, 35488.22it/s]\n"
     ]
    }
   ],
   "source": [
    "subm_map = {}\n",
    "for i, row in tqdm.tqdm(subm.iterrows()):\n",
    "    subm_map[(row[\"ego_id\"], row[\"u\"], row[\"v\"])] = row[\"x1\"]\n"
   ]
  },
  {
   "cell_type": "code",
   "execution_count": 343,
   "metadata": {},
   "outputs": [
    {
     "name": "stderr",
     "output_type": "stream",
     "text": [
      "810976it [00:21, 37080.18it/s]\n"
     ]
    }
   ],
   "source": [
    "res = []\n",
    "for i, row in tqdm.tqdm(th.iterrows()):\n",
    "    if (row[\"ego_id\"], row[\"u\"], row[\"v\"]) in subm_map.keys():\n",
    "         res.append([row[\"ego_id\"], row[\"u\"], row[\"v\"], subm_map[(row[\"ego_id\"], row[\"u\"], row[\"v\"])]])\n",
    "\n"
   ]
  },
  {
   "cell_type": "code",
   "execution_count": 345,
   "metadata": {},
   "outputs": [],
   "source": [
    "final_subm = pd.DataFrame(np.array(res),columns=['ego_id','u','v','x1'])\n",
    "final_subm['ego_id'] =final_subm['ego_id'].astype(np.int64)\n",
    "final_subm['u'] =final_subm['u'].astype(np.int64)\n",
    "final_subm['v'] =final_subm['v'].astype(np.int64)\n",
    "final_subm.to_csv(\"final_subm.csv\",index=False)\n"
   ]
  },
  {
   "cell_type": "code",
   "execution_count": 346,
   "metadata": {},
   "outputs": [
    {
     "data": {
      "text/html": [
       "<div>\n",
       "<style scoped>\n",
       "    .dataframe tbody tr th:only-of-type {\n",
       "        vertical-align: middle;\n",
       "    }\n",
       "\n",
       "    .dataframe tbody tr th {\n",
       "        vertical-align: top;\n",
       "    }\n",
       "\n",
       "    .dataframe thead th {\n",
       "        text-align: right;\n",
       "    }\n",
       "</style>\n",
       "<table border=\"1\" class=\"dataframe\">\n",
       "  <thead>\n",
       "    <tr style=\"text-align: right;\">\n",
       "      <th></th>\n",
       "      <th>ego_id</th>\n",
       "      <th>u</th>\n",
       "      <th>v</th>\n",
       "      <th>x1</th>\n",
       "    </tr>\n",
       "  </thead>\n",
       "  <tbody>\n",
       "    <tr>\n",
       "      <th>0</th>\n",
       "      <td>8</td>\n",
       "      <td>0</td>\n",
       "      <td>93</td>\n",
       "      <td>0.057666</td>\n",
       "    </tr>\n",
       "    <tr>\n",
       "      <th>1</th>\n",
       "      <td>8</td>\n",
       "      <td>0</td>\n",
       "      <td>143</td>\n",
       "      <td>0.909658</td>\n",
       "    </tr>\n",
       "    <tr>\n",
       "      <th>2</th>\n",
       "      <td>8</td>\n",
       "      <td>0</td>\n",
       "      <td>151</td>\n",
       "      <td>4.567711</td>\n",
       "    </tr>\n",
       "    <tr>\n",
       "      <th>3</th>\n",
       "      <td>8</td>\n",
       "      <td>1</td>\n",
       "      <td>24</td>\n",
       "      <td>0.087706</td>\n",
       "    </tr>\n",
       "    <tr>\n",
       "      <th>4</th>\n",
       "      <td>8</td>\n",
       "      <td>5</td>\n",
       "      <td>4</td>\n",
       "      <td>0.542361</td>\n",
       "    </tr>\n",
       "    <tr>\n",
       "      <th>...</th>\n",
       "      <td>...</td>\n",
       "      <td>...</td>\n",
       "      <td>...</td>\n",
       "      <td>...</td>\n",
       "    </tr>\n",
       "    <tr>\n",
       "      <th>20007</th>\n",
       "      <td>42949673174</td>\n",
       "      <td>157</td>\n",
       "      <td>175</td>\n",
       "      <td>1.328830</td>\n",
       "    </tr>\n",
       "    <tr>\n",
       "      <th>20008</th>\n",
       "      <td>42949673174</td>\n",
       "      <td>185</td>\n",
       "      <td>176</td>\n",
       "      <td>0.246712</td>\n",
       "    </tr>\n",
       "    <tr>\n",
       "      <th>20009</th>\n",
       "      <td>42949673174</td>\n",
       "      <td>197</td>\n",
       "      <td>196</td>\n",
       "      <td>0.852768</td>\n",
       "    </tr>\n",
       "    <tr>\n",
       "      <th>20010</th>\n",
       "      <td>42949673174</td>\n",
       "      <td>203</td>\n",
       "      <td>105</td>\n",
       "      <td>0.521382</td>\n",
       "    </tr>\n",
       "    <tr>\n",
       "      <th>20011</th>\n",
       "      <td>42949673174</td>\n",
       "      <td>251</td>\n",
       "      <td>252</td>\n",
       "      <td>0.488598</td>\n",
       "    </tr>\n",
       "  </tbody>\n",
       "</table>\n",
       "<p>20012 rows × 4 columns</p>\n",
       "</div>"
      ],
      "text/plain": [
       "            ego_id    u    v        x1\n",
       "0                8    0   93  0.057666\n",
       "1                8    0  143  0.909658\n",
       "2                8    0  151  4.567711\n",
       "3                8    1   24  0.087706\n",
       "4                8    5    4  0.542361\n",
       "...            ...  ...  ...       ...\n",
       "20007  42949673174  157  175  1.328830\n",
       "20008  42949673174  185  176  0.246712\n",
       "20009  42949673174  197  196  0.852768\n",
       "20010  42949673174  203  105  0.521382\n",
       "20011  42949673174  251  252  0.488598\n",
       "\n",
       "[20012 rows x 4 columns]"
      ]
     },
     "execution_count": 346,
     "metadata": {},
     "output_type": "execute_result"
    }
   ],
   "source": [
    "final_subm"
   ]
  },
  {
   "cell_type": "code",
   "execution_count": null,
   "metadata": {},
   "outputs": [],
   "source": []
  }
 ],
 "metadata": {
  "kernelspec": {
   "display_name": "Python 3 (ipykernel)",
   "language": "python",
   "name": "python3"
  },
  "language_info": {
   "codemirror_mode": {
    "name": "ipython",
    "version": 3
   },
   "file_extension": ".py",
   "mimetype": "text/x-python",
   "name": "python",
   "nbconvert_exporter": "python",
   "pygments_lexer": "ipython3",
   "version": "3.10.5"
  }
 },
 "nbformat": 4,
 "nbformat_minor": 2
}
